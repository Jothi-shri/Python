{
 "cells": [
  {
   "cell_type": "code",
   "execution_count": null,
   "id": "b7d250bb-ce13-467c-9f7c-a7edb43889f6",
   "metadata": {},
   "outputs": [],
   "source": [
    "text = \"Hello World\";\n",
    "vowels = \"aeiouAEIOU\";\n",
    "vowel_count = 0;\n",
    "for char1 in vowels:\n",
    "    if char == char1:\n",
    "        vowel_count += 1"
   ]
  },
  {
   "cell_type": "code",
   "execution_count": 1,
   "id": "40f2165c-eed6-4a69-a144-310ea1c29a46",
   "metadata": {},
   "outputs": [
    {
     "name": "stdin",
     "output_type": "stream",
     "text": [
      "Enter the first number:  4\n",
      "Enter the second number:  6\n",
      "Enter operator (+, -, *, /):  +\n"
     ]
    },
    {
     "name": "stdout",
     "output_type": "stream",
     "text": [
      "Result: 10\n"
     ]
    }
   ],
   "source": [
    "def add(a, b):\n",
    "    return a + b\n",
    "\n",
    "def sub(a, b):\n",
    "    return a - b\n",
    "\n",
    "def multi(a, b):\n",
    "    return a * b\n",
    "\n",
    "def division(a, b):\n",
    "    return a / b\n",
    "\n",
    "\n",
    "try:\n",
    "    a = int(input(\"Enter the first number: \"))\n",
    "    b = int(input(\"Enter the second number: \"))\n",
    "    op = input(\"Enter operator (+, -, *, /): \")\n",
    "\n",
    "    if op == \"+\":\n",
    "        print(\"Result:\", add(a, b))\n",
    "    elif op == \"-\":\n",
    "        print(\"Result:\", sub(a, b))\n",
    "    elif op == \"*\":\n",
    "        print(\"Result:\", multi(a, b))\n",
    "    elif op == \"/\":\n",
    "        print(\"Result:\", division(a, b))\n",
    "    else:\n",
    "        print(\"Invalid operator!\")\n",
    "\n",
    "except ValueError:\n",
    "    print(\"Error: Please enter valid numbers.\")\n",
    "except ZeroDivisionError:\n",
    "    print(\"Error: Cannot divide by zero.\")\n",
    "except Exception as e:\n",
    "    print(\"Unexpected error:\", e)\n"
   ]
  }
 ],
 "metadata": {
  "kernelspec": {
   "display_name": "Python [conda env:base] *",
   "language": "python",
   "name": "conda-base-py"
  },
  "language_info": {
   "codemirror_mode": {
    "name": "ipython",
    "version": 3
   },
   "file_extension": ".py",
   "mimetype": "text/x-python",
   "name": "python",
   "nbconvert_exporter": "python",
   "pygments_lexer": "ipython3",
   "version": "3.13.5"
  }
 },
 "nbformat": 4,
 "nbformat_minor": 5
}
