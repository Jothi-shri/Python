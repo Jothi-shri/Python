{
 "cells": [
  {
   "cell_type": "code",
   "execution_count": null,
   "id": "17446c46-0e73-40e0-a7af-f55b4836d1a8",
   "metadata": {},
   "outputs": [],
   "source": [
    "import random \n",
    "\n",
    "user1 = stone\n",
    "user2 = paper\n",
    "condition"
   ]
  },
  {
   "cell_type": "code",
   "execution_count": 6,
   "id": "fd9a726f-84ee-41b8-ad06-762cb51a283b",
   "metadata": {},
   "outputs": [
    {
     "name": "stdout",
     "output_type": "stream",
     "text": [
      "hihihihihi\n"
     ]
    }
   ],
   "source": [
    "k = \"hi\"\n",
    "# k1= \"hi\" \n",
    "k= 5\n",
    "# print(k+k1)/\n",
    "print(k*k1)"
   ]
  },
  {
   "cell_type": "code",
   "execution_count": 15,
   "id": "08ced251-927d-40c9-b175-194377d3f233",
   "metadata": {},
   "outputs": [
    {
     "name": "stdin",
     "output_type": "stream",
     "text": [
      "Enter the word to count:  of\n"
     ]
    },
    {
     "name": "stdout",
     "output_type": "stream",
     "text": [
      "The word 'of' appears 2 times.\n"
     ]
    }
   ],
   "source": [
    "f = open(\"PythonFileHandling1.txt\", \"r\")\n",
    "text = f.read()\n",
    "f.close()\n",
    "\n",
    "word_to_count = input(\"Enter the word to count: \")\n",
    "\n",
    "count = 0\n",
    "for word in text.split():\n",
    "    if word == word_to_count:\n",
    "        count += 1\n",
    "\n",
    "print(f\"The word '{word_to_count}' appears {count} times.\")\n",
    "\n",
    "\n",
    "# f.readline(3)\n",
    "# f.write(\"Quote\")\n",
    "# f.close()\n",
    "# f.append(\"Quote\")"
   ]
  },
  {
   "cell_type": "code",
   "execution_count": 6,
   "id": "a15fd78c-bf56-4842-9e5a-3c4284652d48",
   "metadata": {},
   "outputs": [
    {
     "data": {
      "text/plain": [
       "'Quo'"
      ]
     },
     "execution_count": 6,
     "metadata": {},
     "output_type": "execute_result"
    }
   ],
   "source": [
    "# f = open(\"PythonFileHandling.txt\",\"r\")\n",
    "# f.readline(3)"
   ]
  },
  {
   "cell_type": "code",
   "execution_count": 20,
   "id": "475f9a28-e262-4e2f-a36c-4010b1b51d0a",
   "metadata": {},
   "outputs": [
    {
     "name": "stdout",
     "output_type": "stream",
     "text": [
      "[6, 8, 10]\n"
     ]
    }
   ],
   "source": [
    "L1 = [2, 3, 4]\n",
    "L2 = [4, 5, 6]\n",
    "L3 = []   \n",
    "\n",
    "for i in range(len(L1)):\n",
    "    L3.append(L1[i] + L2[i])   \n",
    "\n",
    "print(L3)\n"
   ]
  }
 ],
 "metadata": {
  "kernelspec": {
   "display_name": "Python [conda env:base] *",
   "language": "python",
   "name": "conda-base-py"
  },
  "language_info": {
   "codemirror_mode": {
    "name": "ipython",
    "version": 3
   },
   "file_extension": ".py",
   "mimetype": "text/x-python",
   "name": "python",
   "nbconvert_exporter": "python",
   "pygments_lexer": "ipython3",
   "version": "3.13.5"
  }
 },
 "nbformat": 4,
 "nbformat_minor": 5
}
