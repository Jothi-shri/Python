{
 "cells": [
  {
   "cell_type": "code",
   "execution_count": 2,
   "id": "69eec130-0430-4097-bdcf-50d81620a142",
   "metadata": {},
   "outputs": [
    {
     "name": "stdout",
     "output_type": "stream",
     "text": [
      "21\n"
     ]
    }
   ],
   "source": [
    "def add(n1, n2):\n",
    "    sum1 = n1 + n2\n",
    "    return sum1\n",
    "\n",
    "def sub(n1, n2):\n",
    "    diff = n1 - n2\n",
    "    return diff\n",
    "\n",
    "\n",
    "s1 = add(3, 4)     \n",
    "s2 = sub(5, 2)     \n",
    "\n",
    "\n",
    "# result = s1 * s2\n",
    "print(s1*s2)\n",
    "\n",
    "# print(\"Addition:\", s1)\n",
    "# print(\"Subtraction:\", s2)\n",
    "# print(\"Multiplication of both:\", result)\n",
    "\n",
    "\n",
    "    "
   ]
  },
  {
   "cell_type": "code",
   "execution_count": 10,
   "id": "7368a166-4a4b-4d3c-ae2d-a803c4cd7269",
   "metadata": {},
   "outputs": [
    {
     "name": "stdout",
     "output_type": "stream",
     "text": [
      "Enter correct variable\n"
     ]
    }
   ],
   "source": [
    "# Error handling\n",
    "\n",
    "try:\n",
    "    a= ten\n",
    "    b= 3\n",
    "    print(a/b)\n",
    "except ZeroDivisionError:\n",
    "    print(\"Division by zero not allowed\");\n",
    "except ValueError:\n",
    "    print(\"Enter valid integers\");\n",
    "except NameError:\n",
    "    print(\"Enter correct variable\");"
   ]
  },
  {
   "cell_type": "code",
   "execution_count": 14,
   "id": "68d494fc-5d61-46e9-82c3-483cb6453c4e",
   "metadata": {},
   "outputs": [
    {
     "name": "stdout",
     "output_type": "stream",
     "text": [
      "unsupported operand type(s) for /: 'int' and 'str'\n"
     ]
    }
   ],
   "source": [
    "try:\n",
    "    a  = 8\n",
    "    b  = \"j\"\n",
    "    print(a/b)\n",
    "except Exception as a:\n",
    "    print(a)"
   ]
  },
  {
   "cell_type": "code",
   "execution_count": 1,
   "id": "e959ee1b-725c-4c7e-8de3-22c363950556",
   "metadata": {},
   "outputs": [
    {
     "name": "stdin",
     "output_type": "stream",
     "text": [
      "Enter a first number 50\n",
      "Enter a second number 70\n"
     ]
    },
    {
     "ename": "TypeError",
     "evalue": "add() missing 2 required positional arguments: 'a' and 'b'",
     "output_type": "error",
     "traceback": [
      "\u001b[1;31m---------------------------------------------------------------------------\u001b[0m",
      "\u001b[1;31mTypeError\u001b[0m                                 Traceback (most recent call last)",
      "Cell \u001b[1;32mIn[1], line 15\u001b[0m\n\u001b[0;32m     12\u001b[0m \u001b[38;5;28;01mdef\u001b[39;00m\u001b[38;5;250m \u001b[39m\u001b[38;5;21mdivision\u001b[39m(a, b):\n\u001b[0;32m     13\u001b[0m     \u001b[38;5;28;01mreturn\u001b[39;00m a \u001b[38;5;241m/\u001b[39m b\n\u001b[1;32m---> 15\u001b[0m add()\n",
      "\u001b[1;31mTypeError\u001b[0m: add() missing 2 required positional arguments: 'a' and 'b'"
     ]
    }
   ],
   "source": [
    "a = int(input(\"Enter a first number\"))\n",
    "b = int(input(\"Enter a second number\"))\n",
    "def add(a, b):\n",
    "    return a + b\n",
    "\n",
    "def sub(a, b):\n",
    "    return a - b\n",
    "\n",
    "def multi(a, b):\n",
    "    return a * b\n",
    "\n",
    "def division(a, b):\n",
    "    return a / b\n",
    "\n",
    "add(a,b)\n",
    "\n",
    "\n"
   ]
  }
 ],
 "metadata": {
  "kernelspec": {
   "display_name": "Python [conda env:base] *",
   "language": "python",
   "name": "conda-base-py"
  },
  "language_info": {
   "codemirror_mode": {
    "name": "ipython",
    "version": 3
   },
   "file_extension": ".py",
   "mimetype": "text/x-python",
   "name": "python",
   "nbconvert_exporter": "python",
   "pygments_lexer": "ipython3",
   "version": "3.13.5"
  }
 },
 "nbformat": 4,
 "nbformat_minor": 5
}
