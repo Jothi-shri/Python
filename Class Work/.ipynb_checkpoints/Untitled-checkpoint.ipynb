{
 "cells": [
  {
   "cell_type": "code",
   "execution_count": 4,
   "id": "39adf5bf-0d2d-418f-b55a-58b8ca5e1171",
   "metadata": {},
   "outputs": [
    {
     "name": "stdout",
     "output_type": "stream",
     "text": [
      "2\n",
      "5\n",
      "8\n",
      "11\n",
      "0 1\n",
      "1 2\n",
      "2 3\n",
      "3 4\n"
     ]
    }
   ],
   "source": [
    "for i in range (2,12,3):\n",
    "    print(i);\n",
    "l = [1,2,3,4]\n",
    "for i,j in enumerate(l):\n",
    "    print(i,j);"
   ]
  },
  {
   "cell_type": "code",
   "execution_count": 11,
   "id": "44881ed7-2cef-4584-b49e-b0f44f5bb895",
   "metadata": {},
   "outputs": [
    {
     "name": "stdout",
     "output_type": "stream",
     "text": [
      "5\n",
      "7\n",
      "17\n"
     ]
    }
   ],
   "source": [
    "t = [5, 6, 8, 10, 7, 17]\n",
    "for s in t:\n",
    "    if s % 2 != 0:  \n",
    "        print(s);\n",
    "# Max , min\n",
    "\n",
    "    \n",
    "    "
   ]
  }
 ],
 "metadata": {
  "kernelspec": {
   "display_name": "Python [conda env:base] *",
   "language": "python",
   "name": "conda-base-py"
  },
  "language_info": {
   "codemirror_mode": {
    "name": "ipython",
    "version": 3
   },
   "file_extension": ".py",
   "mimetype": "text/x-python",
   "name": "python",
   "nbconvert_exporter": "python",
   "pygments_lexer": "ipython3",
   "version": "3.13.5"
  }
 },
 "nbformat": 4,
 "nbformat_minor": 5
}
