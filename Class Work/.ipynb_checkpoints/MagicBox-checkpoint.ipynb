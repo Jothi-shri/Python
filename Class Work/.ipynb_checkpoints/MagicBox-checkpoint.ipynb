{
 "cells": [
  {
   "cell_type": "code",
   "execution_count": 3,
   "id": "e76b6a52-06c4-4bff-a602-092f1e536305",
   "metadata": {},
   "outputs": [
    {
     "name": "stdout",
     "output_type": "stream",
     "text": [
      "H\n",
      "World!\n"
     ]
    }
   ],
   "source": [
    "# split --> string method\n",
    "a = \"Hello, World!\";\n",
    "b = a.split(); \n",
    "# b=[\"Hello,\", \"World!\"]  --> by default it split by a space\n",
    "print(a[0]);\n",
    "print(b[1]); "
   ]
  },
  {
   "cell_type": "code",
   "execution_count": 4,
   "id": "dd301e84-a642-440d-84c9-466f0d11ab65",
   "metadata": {},
   "outputs": [
    {
     "name": "stdin",
     "output_type": "stream",
     "text": [
      "Enter your name John\n",
      "Enter your age 23\n"
     ]
    }
   ],
   "source": [
    "# Formatted String literal --> f\n",
    "a = input(\"Enter your name\");\n",
    "b = input(\"Enter your age\");\n",
    "c = f\" I am {a},my age is {b}\""
   ]
  }
 ],
 "metadata": {
  "kernelspec": {
   "display_name": "Python [conda env:base] *",
   "language": "python",
   "name": "conda-base-py"
  },
  "language_info": {
   "codemirror_mode": {
    "name": "ipython",
    "version": 3
   },
   "file_extension": ".py",
   "mimetype": "text/x-python",
   "name": "python",
   "nbconvert_exporter": "python",
   "pygments_lexer": "ipython3",
   "version": "3.13.5"
  }
 },
 "nbformat": 4,
 "nbformat_minor": 5
}
