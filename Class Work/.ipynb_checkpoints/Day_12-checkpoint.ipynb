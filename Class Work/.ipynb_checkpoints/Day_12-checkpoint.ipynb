{
 "cells": [
  {
   "cell_type": "code",
   "execution_count": 6,
   "id": "3e24674b-06a1-4bf8-b3ed-3cfeaf9ec696",
   "metadata": {},
   "outputs": [
    {
     "ename": "SyntaxError",
     "evalue": "invalid syntax. Maybe you meant '==' or ':=' instead of '='? (1992710856.py, line 3)",
     "output_type": "error",
     "traceback": [
      "\u001b[1;36m  Cell \u001b[1;32mIn[6], line 3\u001b[1;36m\u001b[0m\n\u001b[1;33m    while  i = 0:\u001b[0m\n\u001b[1;37m           ^\u001b[0m\n\u001b[1;31mSyntaxError\u001b[0m\u001b[1;31m:\u001b[0m invalid syntax. Maybe you meant '==' or ':=' instead of '='?\n"
     ]
    }
   ],
   "source": [
    "k = [1,3,45,6,89,90]\n",
    "i = 0\n",
    "while  i = 0:\n",
    "    i+= 1\n",
    "     print(k);\n",
    "\n",
    "\n",
    "\n",
    "\n",
    "\n",
    "\n"
   ]
  },
  {
   "cell_type": "code",
   "execution_count": 10,
   "id": "87be16ba-b06c-4f92-8803-5255306a1619",
   "metadata": {},
   "outputs": [
    {
     "name": "stdout",
     "output_type": "stream",
     "text": [
      "6\n"
     ]
    }
   ],
   "source": [
    "\n",
    "k = [1, 3, 45, 6, 89, 90]\n",
    "\n",
    "count = 0\n",
    "for x in k:  \n",
    "    # print( count)\n",
    "    count += 1\n",
    "\n",
    "print( count)"
   ]
  },
  {
   "cell_type": "code",
   "execution_count": 12,
   "id": "1085e3f5-54fb-4607-8c18-d24d28235c1d",
   "metadata": {},
   "outputs": [
    {
     "name": "stdout",
     "output_type": "stream",
     "text": [
      "0 1\n",
      "1 3\n",
      "2 45\n",
      "3 6\n",
      "4 89\n",
      "5 90\n"
     ]
    }
   ],
   "source": [
    "k = [1, 3, 45, 6, 89, 90]\n",
    "# for i in range(len(k)):\n",
    "for i in range(6):   \n",
    "    print(i,k[i])\n",
    "    # print(i)"
   ]
  },
  {
   "cell_type": "code",
   "execution_count": 19,
   "id": "2ca46b9a-edde-48b9-b532-4ab8b313665c",
   "metadata": {},
   "outputs": [
    {
     "name": "stdout",
     "output_type": "stream",
     "text": [
      "2\n"
     ]
    }
   ],
   "source": [
    "k = \"hi hello How\"\n",
    "k.lower();\n",
    "h_count = 0 \n",
    "for i in range(len(k)):\n",
    "    if k[i] == \"h\":\n",
    "        h_count += 1\n",
    "\n",
    "print(h_count);\n",
    "\n",
    "# for i in k:\n",
    "#      if i == \"h\":\n",
    "#          count += 1\n",
    "# print(count)\n"
   ]
  }
 ],
 "metadata": {
  "kernelspec": {
   "display_name": "Python [conda env:base] *",
   "language": "python",
   "name": "conda-base-py"
  },
  "language_info": {
   "codemirror_mode": {
    "name": "ipython",
    "version": 3
   },
   "file_extension": ".py",
   "mimetype": "text/x-python",
   "name": "python",
   "nbconvert_exporter": "python",
   "pygments_lexer": "ipython3",
   "version": "3.13.5"
  }
 },
 "nbformat": 4,
 "nbformat_minor": 5
}
