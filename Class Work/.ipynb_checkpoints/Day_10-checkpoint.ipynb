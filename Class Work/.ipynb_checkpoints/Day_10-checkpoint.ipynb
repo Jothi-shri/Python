{
 "cells": [
  {
   "cell_type": "code",
   "execution_count": 7,
   "id": "f3065dfb-6602-467e-81aa-61d609b9a039",
   "metadata": {},
   "outputs": [
    {
     "name": "stdout",
     "output_type": "stream",
     "text": [
      "{2, 3, 4, 5, 6, 7}\n",
      "{2, 3, 4, 5, 6, 7}\n"
     ]
    }
   ],
   "source": [
    "a = {2,3,4}\n",
    "b = {5,6,7}\n",
    "c = a.union(b);\n",
    "a.update(b); \n",
    "print(c);\n",
    "print(a);"
   ]
  },
  {
   "cell_type": "code",
   "execution_count": 15,
   "id": "ecff3845-4418-4d43-a969-9101b26a3d61",
   "metadata": {},
   "outputs": [
    {
     "name": "stdout",
     "output_type": "stream",
     "text": [
      "dict_keys(['k', 'l', 'm'])\n",
      "dict_values([90, 80, 60])\n",
      "dict_items([('k', 90), ('l', 80), ('m', 60)])\n",
      "{'k': 90, 'l': 80, 'm': 70, 'n': 80, 'o': 50}\n"
     ]
    }
   ],
   "source": [
    "# Dictionary\n",
    "D = {\"k\" : 90 , \"l\" : 80 , \"m\" : 60}\n",
    "print(D.keys());\n",
    "print(D.values());\n",
    "print(D.items());\n",
    "D[\"n\"] = 80;\n",
    "D[\"m\"] = 70;\n",
    "D.update({\"o\" : 50})\n",
    "print(D);"
   ]
  }
 ],
 "metadata": {
  "kernelspec": {
   "display_name": "Python [conda env:base] *",
   "language": "python",
   "name": "conda-base-py"
  },
  "language_info": {
   "codemirror_mode": {
    "name": "ipython",
    "version": 3
   },
   "file_extension": ".py",
   "mimetype": "text/x-python",
   "name": "python",
   "nbconvert_exporter": "python",
   "pygments_lexer": "ipython3",
   "version": "3.13.5"
  }
 },
 "nbformat": 4,
 "nbformat_minor": 5
}
