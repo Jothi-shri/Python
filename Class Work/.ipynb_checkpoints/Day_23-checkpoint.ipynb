{
 "cells": [
  {
   "cell_type": "code",
   "execution_count": 7,
   "id": "b11d0640-cf78-45ea-800a-2aee55c96180",
   "metadata": {},
   "outputs": [
    {
     "name": "stdout",
     "output_type": "stream",
     "text": [
      "1\n"
     ]
    }
   ],
   "source": [
    "l = ([[1],[2]])\n",
    "print(l[0][0])"
   ]
  },
  {
   "cell_type": "code",
   "execution_count": null,
   "id": "5f5b4a61-5589-461a-b7d9-7fb1cbb08631",
   "metadata": {},
   "outputs": [],
   "source": [
    "# 5 -10 \n",
    "# csv load --> data starting to end --> dynamic --> indexing user fix\n",
    "# loc ,iloc, dataframe"
   ]
  },
  {
   "cell_type": "code",
   "execution_count": 13,
   "id": "1348a3ad-b138-45fd-ad54-d876fef5ffd0",
   "metadata": {},
   "outputs": [
    {
     "name": "stdout",
     "output_type": "stream",
     "text": [
      "    name  tamil  english  maths\n",
      "0    ram     90       22     90\n",
      "1  ragul     80       44     89\n",
      "2  krish     67       69     66\n",
      "name       krish\n",
      "tamil         67\n",
      "english       69\n",
      "maths         66\n",
      "Name: 2, dtype: object\n"
     ]
    }
   ],
   "source": [
    "import pandas\n",
    "student={\"name\":[\"ram\",\"ragul\",\"krish\"],\n",
    "         \"tamil\":[90,80,67],\n",
    "         \"english\":[22,44,69],\n",
    "         \"maths\":[90,89,66]}\n",
    "dataframe = pandas.DataFrame(student)\n",
    "print(dataframe)\n"
   ]
  },
  {
   "cell_type": "code",
   "execution_count": 14,
   "id": "4beaf57c-275f-4226-9676-9e5bf330c9a7",
   "metadata": {},
   "outputs": [
    {
     "name": "stdout",
     "output_type": "stream",
     "text": [
      "name       krish\n",
      "tamil         67\n",
      "english       69\n",
      "maths         66\n",
      "Name: 2, dtype: object\n"
     ]
    }
   ],
   "source": [
    "print(dataframe.loc[2])"
   ]
  },
  {
   "cell_type": "code",
   "execution_count": 15,
   "id": "6c5763c5-8cb1-4816-a4c0-02b74aa408ff",
   "metadata": {},
   "outputs": [
    {
     "name": "stdout",
     "output_type": "stream",
     "text": [
      "    name  tamil  english  maths\n",
      "2  krish     67       69     66\n"
     ]
    }
   ],
   "source": [
    "print(dataframe.loc[[2]])"
   ]
  },
  {
   "cell_type": "code",
   "execution_count": 1,
   "id": "a8f7e6dc-e0a3-40ab-92ca-df844a9000b0",
   "metadata": {},
   "outputs": [
    {
     "name": "stdout",
     "output_type": "stream",
     "text": [
      "5\n"
     ]
    }
   ],
   "source": [
    "def countDigit(n):\n",
    "\n",
    "    # Base case\n",
    "    if n == 0:\n",
    "        return 1\n",
    "\n",
    "    count = 0\n",
    "\n",
    "    # Iterate till n has digits remaining\n",
    "    while n != 0:\n",
    "\n",
    "        # Remove rightmost digit\n",
    "        n = n // 10\n",
    "\n",
    "        # Increment digit count by 1\n",
    "        count += 1\n",
    "\n",
    "    return count\n",
    "\n",
    "\n",
    "if __name__ == \"__main__\":\n",
    "    n = 58964\n",
    "    print(countDigit(n))"
   ]
  }
 ],
 "metadata": {
  "kernelspec": {
   "display_name": "Python [conda env:base] *",
   "language": "python",
   "name": "conda-base-py"
  },
  "language_info": {
   "codemirror_mode": {
    "name": "ipython",
    "version": 3
   },
   "file_extension": ".py",
   "mimetype": "text/x-python",
   "name": "python",
   "nbconvert_exporter": "python",
   "pygments_lexer": "ipython3",
   "version": "3.13.5"
  }
 },
 "nbformat": 4,
 "nbformat_minor": 5
}
