{
 "cells": [
  {
   "cell_type": "code",
   "execution_count": 14,
   "id": "06321117-d8ff-45ea-8940-62c18b8aa2fd",
   "metadata": {},
   "outputs": [
    {
     "name": "stdout",
     "output_type": "stream",
     "text": [
      "Balance: 1000\n",
      "Balance: 1500\n",
      "Credit: 2000\n"
     ]
    }
   ],
   "source": [
    "# Encapsulation\n",
    "class BankAccount:\n",
    "    def __init__(self, balance, credit):\n",
    "        self.__balance = balance   \n",
    "        self.credit = credit      \n",
    "\n",
    "    def showBalance(self):\n",
    "        print(f\"Balance: {self.__balance}\")\n",
    "\n",
    "    def deposit(self, amount):\n",
    "        if amount > 0:\n",
    "            self.__balance += amount\n",
    "\n",
    "    def showCredit(self):\n",
    "        print(f\"Credit: {self.credit}\")\n",
    "\n",
    "\n",
    "\n",
    "acc = BankAccount(1000, 2000)\n",
    "acc.showBalance()\n",
    "acc.deposit(500)\n",
    "acc.showBalance()\n",
    "acc.showCredit()\n",
    "\n",
    "\n"
   ]
  },
  {
   "cell_type": "code",
   "execution_count": null,
   "id": "280ddf37-77d9-4e56-9a66-210baa99b359",
   "metadata": {},
   "outputs": [],
   "source": [
    "\n",
    " parent\n",
    "    private,public,protect\n",
    " 3 func \n",
    "sub cls access"
   ]
  }
 ],
 "metadata": {
  "kernelspec": {
   "display_name": "Python [conda env:base] *",
   "language": "python",
   "name": "conda-base-py"
  },
  "language_info": {
   "codemirror_mode": {
    "name": "ipython",
    "version": 3
   },
   "file_extension": ".py",
   "mimetype": "text/x-python",
   "name": "python",
   "nbconvert_exporter": "python",
   "pygments_lexer": "ipython3",
   "version": "3.13.5"
  }
 },
 "nbformat": 4,
 "nbformat_minor": 5
}
