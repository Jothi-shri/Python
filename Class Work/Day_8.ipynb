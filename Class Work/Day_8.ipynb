{
 "cells": [
  {
   "cell_type": "code",
   "execution_count": 20,
   "id": "8d265239-c21a-43ae-866c-34172ffe6d6c",
   "metadata": {},
   "outputs": [
    {
     "name": "stdout",
     "output_type": "stream",
     "text": [
      "[[2, 3, 4], 36, 76, 'Welcome', 'Hi', 'Hello']\n",
      "['Hi', 'How']\n"
     ]
    }
   ],
   "source": [
    "k = [23,[2,3,4],45,76,\"Hi\"]\n",
    "i= k.index(45)\n",
    "k[i] = 36;\n",
    "k.insert(5,\"Hello\");\n",
    "k.insert(4,\"Welcome\");\n",
    "k.pop(0);\n",
    "print(k);\n",
    "\n",
    "# Tuple\n",
    "k = (\"Hi\",\"Hello\",\"How\");\n",
    "l= list(k);\n",
    "l.pop(1);\n",
    "print(l);"
   ]
  }
 ],
 "metadata": {
  "kernelspec": {
   "display_name": "Python [conda env:base] *",
   "language": "python",
   "name": "conda-base-py"
  },
  "language_info": {
   "codemirror_mode": {
    "name": "ipython",
    "version": 3
   },
   "file_extension": ".py",
   "mimetype": "text/x-python",
   "name": "python",
   "nbconvert_exporter": "python",
   "pygments_lexer": "ipython3",
   "version": "3.13.5"
  }
 },
 "nbformat": 4,
 "nbformat_minor": 5
}
