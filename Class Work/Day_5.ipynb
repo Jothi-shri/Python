{
 "cells": [
  {
   "cell_type": "code",
   "execution_count": 8,
   "id": "778226c8-6555-4ffe-831a-5cd19bc48a53",
   "metadata": {},
   "outputs": [
    {
     "name": "stdout",
     "output_type": "stream",
     "text": [
      "7\n",
      "0b110\n"
     ]
    }
   ],
   "source": [
    "# Bitwise Operator\n",
    "a = 6\n",
    "b = 3\n",
    "c = bin(a)\n",
    "print(a | b)\n",
    "print(c)"
   ]
  },
  {
   "cell_type": "code",
   "execution_count": 10,
   "id": "63b828c5-3e10-4618-8058-69fe81bba388",
   "metadata": {},
   "outputs": [
    {
     "name": "stdout",
     "output_type": "stream",
     "text": [
      "1\n",
      "2\n"
     ]
    }
   ],
   "source": [
    "print(True * True) # True \n",
    "print(True + True)"
   ]
  },
  {
   "cell_type": "code",
   "execution_count": null,
   "id": "190d3f85-c867-4e7c-976c-ce7c06e6b2c3",
   "metadata": {},
   "outputs": [],
   "source": [
    "# Left shift\n",
    "# Right shift\n",
    "k = \"welcome python\"\n"
   ]
  }
 ],
 "metadata": {
  "kernelspec": {
   "display_name": "Python [conda env:base] *",
   "language": "python",
   "name": "conda-base-py"
  },
  "language_info": {
   "codemirror_mode": {
    "name": "ipython",
    "version": 3
   },
   "file_extension": ".py",
   "mimetype": "text/x-python",
   "name": "python",
   "nbconvert_exporter": "python",
   "pygments_lexer": "ipython3",
   "version": "3.13.5"
  }
 },
 "nbformat": 4,
 "nbformat_minor": 5
}
