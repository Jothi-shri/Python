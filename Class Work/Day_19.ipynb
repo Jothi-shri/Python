{
 "cells": [
  {
   "cell_type": "code",
   "execution_count": 1,
   "id": "a8225261-c8cf-4441-aa0a-e4933f30f7dd",
   "metadata": {},
   "outputs": [
    {
     "name": "stdout",
     "output_type": "stream",
     "text": [
      "0 1 1 2 3 "
     ]
    }
   ],
   "source": [
    "n = 5\n",
    "a, b = 0, 1\n",
    "\n",
    "for i in range(n):\n",
    "    print(a, end=\" \")\n",
    "    a, b = b, a + b\n"
   ]
  },
  {
   "cell_type": "code",
   "execution_count": 7,
   "id": "9a9ad5f3-464d-481f-abbd-6db029c32dfc",
   "metadata": {},
   "outputs": [
    {
     "name": "stdout",
     "output_type": "stream",
     "text": [
      "[121, 88]\n"
     ]
    }
   ],
   "source": [
    "# list Comphrehension\n",
    "numbers = [121, 133, 123, 88, 97]  \n",
    "\n",
    "palindromes = [num for num in numbers if str(num) == str(num)[::-1]]\n",
    "\n",
    "print(palindromes)"
   ]
  },
  {
   "cell_type": "code",
   "execution_count": null,
   "id": "efe36741-9f10-44d0-a349-06a5325e28b8",
   "metadata": {},
   "outputs": [],
   "source": [
    "#  l = 121\n",
    "# while(l%10):\n",
    "#     print(l);\n",
    "# map , filter"
   ]
  },
  {
   "cell_type": "code",
   "execution_count": null,
   "id": "4d9eae07-2855-44ff-b508-8bccd768ad69",
   "metadata": {},
   "outputs": [],
   "source": []
  }
 ],
 "metadata": {
  "kernelspec": {
   "display_name": "Python [conda env:base] *",
   "language": "python",
   "name": "conda-base-py"
  },
  "language_info": {
   "codemirror_mode": {
    "name": "ipython",
    "version": 3
   },
   "file_extension": ".py",
   "mimetype": "text/x-python",
   "name": "python",
   "nbconvert_exporter": "python",
   "pygments_lexer": "ipython3",
   "version": "3.13.5"
  }
 },
 "nbformat": 4,
 "nbformat_minor": 5
}
