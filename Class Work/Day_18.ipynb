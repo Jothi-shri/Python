{
 "cells": [
  {
   "cell_type": "code",
   "execution_count": 1,
   "id": "655959ef-e604-401a-9064-ffdeb719cb28",
   "metadata": {},
   "outputs": [
    {
     "name": "stdout",
     "output_type": "stream",
     "text": [
      "Sathiyabama University\n",
      "CSE\n"
     ]
    }
   ],
   "source": [
    "# super init\n",
    "\n",
    "# single\n",
    "class university:\n",
    "    print(\"Sathiyabama University\");\n",
    "    \n",
    "class department:\n",
    "    print(\"CSE\");\n",
    "    \n",
    "obj = university;\n",
    "obj1 = department;\n",
    "    "
   ]
  },
  {
   "cell_type": "code",
   "execution_count": 4,
   "id": "a98a6620-3231-4939-92ab-361231a7eb8b",
   "metadata": {},
   "outputs": [
    {
     "name": "stdout",
     "output_type": "stream",
     "text": [
      "Sathiyabama University\n",
      "CSE\n",
      "123\n",
      "Student Details\n"
     ]
    }
   ],
   "source": [
    "# multiple \n",
    "class university:\n",
    "    print(\"Sathiyabama University\");\n",
    "    \n",
    "class department:\n",
    "    print(\"CSE\");\n",
    "\n",
    "class stu_id:\n",
    "    print(\"123\");\n",
    "\n",
    "class details(university,department,stu_id):\n",
    "    print(\"Student Details\");\n",
    "\n",
    "det = details;\n",
    "    "
   ]
  },
  {
   "cell_type": "code",
   "execution_count": 9,
   "id": "3b8fa1c2-ed2d-48b4-89c6-a2ec3fa3c631",
   "metadata": {},
   "outputs": [
    {
     "name": "stdout",
     "output_type": "stream",
     "text": [
      "Sathiyabama University\n",
      "Self-Financed\n",
      "CSE\n",
      "123\n"
     ]
    }
   ],
   "source": [
    "# multilevel\n",
    "class university:\n",
    "    print(\"Sathiyabama University\");\n",
    "\n",
    "class u_type(university):\n",
    "    print(\"Self-Financed\");\n",
    "    \n",
    "class department(u_type):\n",
    "    print(\"CSE\");\n",
    "\n",
    "class stu_id(department):\n",
    "    print(\"123\")\n",
    "\n",
    "det1 = stu_id;"
   ]
  },
  {
   "cell_type": "code",
   "execution_count": 10,
   "id": "e5d264e7-7319-48e9-95c6-870eb1416259",
   "metadata": {},
   "outputs": [
    {
     "name": "stdout",
     "output_type": "stream",
     "text": [
      "Sathiyabama University\n",
      "Self-Financed\n",
      "CSE\n",
      "123\n"
     ]
    }
   ],
   "source": [
    "# hierarchy\n",
    "class university:\n",
    "    print(\"Sathiyabama University\");\n",
    "\n",
    "class u_type(university):\n",
    "    print(\"Self-Financed\");\n",
    "    \n",
    "class department(university):\n",
    "    print(\"CSE\");\n",
    "\n",
    "class stu_id(university):\n",
    "    print(\"123\")\n",
    "\n",
    "det2 = stu_id;\n",
    "    "
   ]
  },
  {
   "cell_type": "code",
   "execution_count": 13,
   "id": "4bba6100-5eba-47fe-8965-079616340ef6",
   "metadata": {},
   "outputs": [
    {
     "name": "stdout",
     "output_type": "stream",
     "text": [
      "Sathiyabama University\n",
      "Self-Financed\n",
      "CSE\n"
     ]
    },
    {
     "ename": "TypeError",
     "evalue": "Cannot create a consistent method resolution order (MRO) for bases university, u_type",
     "output_type": "error",
     "traceback": [
      "\u001b[1;31m---------------------------------------------------------------------------\u001b[0m",
      "\u001b[1;31mTypeError\u001b[0m                                 Traceback (most recent call last)",
      "Cell \u001b[1;32mIn[13], line 9\u001b[0m\n\u001b[0;32m      6\u001b[0m     \u001b[38;5;28mprint\u001b[39m(\u001b[38;5;124m\"\u001b[39m\u001b[38;5;124mSelf-Financed\u001b[39m\u001b[38;5;124m\"\u001b[39m);\n\u001b[0;32m      7\u001b[0m     \u001b[38;5;28;01mpass\u001b[39;00m\n\u001b[1;32m----> 9\u001b[0m \u001b[38;5;28;01mclass\u001b[39;00m\u001b[38;5;250m \u001b[39m\u001b[38;5;21;01mdepartment\u001b[39;00m(university,u_type):\n\u001b[0;32m     10\u001b[0m     \u001b[38;5;28mprint\u001b[39m(\u001b[38;5;124m\"\u001b[39m\u001b[38;5;124mCSE\u001b[39m\u001b[38;5;124m\"\u001b[39m);\n\u001b[0;32m     11\u001b[0m     \u001b[38;5;28;01mpass\u001b[39;00m\n",
      "\u001b[1;31mTypeError\u001b[0m: Cannot create a consistent method resolution order (MRO) for bases university, u_type"
     ]
    }
   ],
   "source": [
    "# hybrid\n",
    "class university:\n",
    "    print(\"Sathiyabama University\");\n",
    "\n",
    "class u_type(university):\n",
    "    print(\"Self-Financed\");\n",
    "    pass\n",
    "    \n",
    "class department(university,u_type):\n",
    "    print(\"CSE\");\n",
    "    pass\n",
    "\n",
    "class stu_id(department):\n",
    "    print(\"123\")\n",
    "\n",
    "det3 = stu_id"
   ]
  }
 ],
 "metadata": {
  "kernelspec": {
   "display_name": "Python [conda env:base] *",
   "language": "python",
   "name": "conda-base-py"
  },
  "language_info": {
   "codemirror_mode": {
    "name": "ipython",
    "version": 3
   },
   "file_extension": ".py",
   "mimetype": "text/x-python",
   "name": "python",
   "nbconvert_exporter": "python",
   "pygments_lexer": "ipython3",
   "version": "3.13.5"
  }
 },
 "nbformat": 4,
 "nbformat_minor": 5
}
