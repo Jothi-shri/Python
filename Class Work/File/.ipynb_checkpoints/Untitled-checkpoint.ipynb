{
 "cells": [
  {
   "cell_type": "code",
   "execution_count": 1,
   "id": "13a22aa3-5738-45e5-8e00-8afc3a2f1173",
   "metadata": {},
   "outputs": [
    {
     "name": "stdout",
     "output_type": "stream",
     "text": [
      "[1, 2, 3, 4, 5]\n"
     ]
    }
   ],
   "source": [
    "# remove duplicates from list\n",
    "nums = [1, 2, 2, 3, 4, 4, 5]\n",
    "\n",
    "# Convert list to set (removes duplicates), then back to list\n",
    "unique_nums = list(set(nums))\n",
    "\n",
    "print(unique_nums)\n"
   ]
  },
  {
   "cell_type": "code",
   "execution_count": 2,
   "id": "0f0edb1e-3d62-4b7a-9591-3babf7bc6d02",
   "metadata": {},
   "outputs": [
    {
     "name": "stdout",
     "output_type": "stream",
     "text": [
      "[8, 2, 4]\n"
     ]
    }
   ],
   "source": [
    "# find common elements\n",
    "L1 = [2, 4, 8, 19]\n",
    "L2 = [4, 6, 8, 2, 1]\n",
    "\n",
    "# Convert both lists to sets and use '&' operator to find common elements\n",
    "\n",
    "common = list(set(L1) & set(L2))\n",
    "print(common)\n"
   ]
  },
  {
   "cell_type": "code",
   "execution_count": 3,
   "id": "11c6d188-2231-45a1-b9ca-f7a97cd0e54f",
   "metadata": {},
   "outputs": [
    {
     "name": "stdout",
     "output_type": "stream",
     "text": [
      "2\n"
     ]
    }
   ],
   "source": [
    "# Find a missing number\n",
    "\n",
    "nums = [0, 1, 3]   \n",
    "\n",
    "# Length of nums = 3 \n",
    "n = len(nums)     \n",
    "\n",
    "full = set(range(n+1))  \n",
    "# range(n+1) creates numbers from 0 to 3 → [0, 1, 2, 3]\n",
    "# convert to set → {0, 1, 2, 3}\n",
    "\n",
    "missing = list(full - set(nums))  \n",
    "# set(nums) → {0, 1, 3}\n",
    "# full - set(nums) → {2} (the missing number)\n",
    "# convert to list → [2]\n",
    "\n",
    "print(missing[0])  # Print the first (and only) element in the list → 2\n",
    "\n"
   ]
  },
  {
   "cell_type": "code",
   "execution_count": 5,
   "id": "9ad22437-796a-4f89-8aed-e4a2ccd9f657",
   "metadata": {},
   "outputs": [
    {
     "name": "stdout",
     "output_type": "stream",
     "text": [
      "[(2, 7), (3, 6)]\n"
     ]
    }
   ],
   "source": [
    "# Two sum\n",
    "nums = [2, 7, 11, 15, 3, 6]   \n",
    "\n",
    "# We need pairs of numbers that add up to this target\n",
    "target = 9                    \n",
    "\n",
    "seen = set()   # To keep track of numbers we have already checked\n",
    "pairs = set()  # To store valid pairs (using set avoids duplicates)\n",
    "\n",
    "# Loop through each number in the list\n",
    "for n in nums:       \n",
    "\n",
    "    # Find the complement that would sum to target\n",
    "    diff = target - n \n",
    "    if diff in seen:           # If the complement was already seen earlier\n",
    "        pairs.add((min(n, diff), max(n, diff)))  \n",
    "        # Store pair as (smaller, larger) so order doesn't matter\n",
    "    seen.add(n)                # Add current number to seen set\n",
    "\n",
    "print(list(pairs))  # Convert set of pairs to list and print\n"
   ]
  },
  {
   "cell_type": "code",
   "execution_count": 6,
   "id": "d7c4ca2e-b862-4a89-b98a-ce1d72e6fa6d",
   "metadata": {},
   "outputs": [
    {
     "name": "stdout",
     "output_type": "stream",
     "text": [
      "[10, 20]\n"
     ]
    }
   ],
   "source": [
    "# Find Elements in First List but Not in Second\n",
    "X = [10, 20, 30, 40]\n",
    "Y = [30, 40, 50, 60]\n",
    "\n",
    "# Find difference (elements in X but not in Y)\n",
    "diff = list(set(X) - set(Y))\n",
    "\n",
    "# Print result\n",
    "print(diff)\n"
   ]
  },
  {
   "cell_type": "code",
   "execution_count": 10,
   "id": "69d4527c-36ad-428b-bd56-6d4e2f706a67",
   "metadata": {},
   "outputs": [
    {
     "name": "stdout",
     "output_type": "stream",
     "text": [
      "[['eat', 'tea', 'ate'], ['tan', 'nat'], ['bat']]\n"
     ]
    }
   ],
   "source": [
    "# Group Anagram\n",
    "\n",
    "words = [\"eat\",\"tea\",\"tan\",\"ate\",\"nat\",\"bat\"]\n",
    "groups = defaultdict(list)\n",
    "\n",
    "for w in words:\n",
    "    key = \"\".join(sorted(w))   # Sort letters to form key\n",
    "    groups[key].append(w)\n",
    "\n",
    "print(list(groups.values()))\n",
    "\n"
   ]
  },
  {
   "cell_type": "code",
   "execution_count": 11,
   "id": "5012ff63-e156-4130-8125-35743d7f5550",
   "metadata": {},
   "outputs": [
    {
     "name": "stdout",
     "output_type": "stream",
     "text": [
      "2\n"
     ]
    }
   ],
   "source": [
    "# Find Majority Element\n",
    "nums = [2, 2, 1, 1, 1, 2, 2]\n",
    "\n",
    "# Initialize count to 0 and candidate to None\n",
    "count, candidate = 0, None\n",
    "\n",
    "# Iterate through each number in the list\n",
    "for n in nums:\n",
    "    # If count is 0, set the current number as the new candidate\n",
    "    if count == 0:  \n",
    "        candidate = n\n",
    "    # If the current number matches the candidate, increment count\n",
    "    # Otherwise, decrement count\n",
    "    count += (1 if n == candidate else -1)\n",
    "\n",
    "# After the loop, candidate holds the majority element\n",
    "print(candidate)  \n"
   ]
  }
 ],
 "metadata": {
  "kernelspec": {
   "display_name": "Python [conda env:base] *",
   "language": "python",
   "name": "conda-base-py"
  },
  "language_info": {
   "codemirror_mode": {
    "name": "ipython",
    "version": 3
   },
   "file_extension": ".py",
   "mimetype": "text/x-python",
   "name": "python",
   "nbconvert_exporter": "python",
   "pygments_lexer": "ipython3",
   "version": "3.13.5"
  }
 },
 "nbformat": 4,
 "nbformat_minor": 5
}
