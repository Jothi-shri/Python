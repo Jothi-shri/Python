{
 "cells": [
  {
   "cell_type": "code",
   "execution_count": 2,
   "id": "fec703dd-b584-41c5-8d76-b56c52dda920",
   "metadata": {},
   "outputs": [
    {
     "name": "stdout",
     "output_type": "stream",
     "text": [
      "Hello World Python2025\n"
     ]
    }
   ],
   "source": [
    "text = \"Hello, World! Python@2025.\"\n",
    "result= \"\"\n",
    "for ch in text: \n",
    "    ascii_val = ord(ch)\n",
    "    if (65 <= ascii_val <= 90) or (97 <= ascii_val <= 122) or (48 <= ascii_val <= 57) or ascii_val == 32:\n",
    "        result += ch \n",
    "    # print(ch, \"->\", ord(ch));\n",
    "print(result)\n",
    "    "
   ]
  }
 ],
 "metadata": {
  "kernelspec": {
   "display_name": "Python [conda env:base] *",
   "language": "python",
   "name": "conda-base-py"
  },
  "language_info": {
   "codemirror_mode": {
    "name": "ipython",
    "version": 3
   },
   "file_extension": ".py",
   "mimetype": "text/x-python",
   "name": "python",
   "nbconvert_exporter": "python",
   "pygments_lexer": "ipython3",
   "version": "3.13.5"
  }
 },
 "nbformat": 4,
 "nbformat_minor": 5
}
