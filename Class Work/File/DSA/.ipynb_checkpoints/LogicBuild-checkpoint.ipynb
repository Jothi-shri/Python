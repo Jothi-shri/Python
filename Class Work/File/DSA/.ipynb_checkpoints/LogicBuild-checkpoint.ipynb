{
 "cells": [
  {
   "cell_type": "code",
   "execution_count": 12,
   "id": "fb5cc81c-2581-47f4-8c36-2876fca96696",
   "metadata": {},
   "outputs": [
    {
     "name": "stdin",
     "output_type": "stream",
     "text": [
      " 13\n"
     ]
    },
    {
     "name": "stdout",
     "output_type": "stream",
     "text": [
      "Odd\n"
     ]
    }
   ],
   "source": [
    "# Odd or Even\n",
    "def Even(n):\n",
    "    if  n %2 == 0:\n",
    "        print(\"Even\");\n",
    "    else:\n",
    "        print(\"odd\");\n",
    "# Even(14)\n",
    "\n",
    "# Using Binary \n",
    "# Even --> ends with 0 ,ends with 1\n",
    "i = int(input());\n",
    "def OddorEven():\n",
    "    if (i & 1) == 0:\n",
    "        print(\"Even\");\n",
    "    else:\n",
    "        print(\"Odd\");\n",
    "OddorEven()"
   ]
  },
  {
   "cell_type": "code",
   "execution_count": 7,
   "id": "a8779ae0-82c9-4633-8900-5d6080f9d3a0",
   "metadata": {},
   "outputs": [
    {
     "name": "stdin",
     "output_type": "stream",
     "text": [
      " 3\n"
     ]
    },
    {
     "name": "stdout",
     "output_type": "stream",
     "text": [
      "3 * 1 = 3\n",
      "3 * 2 = 6\n",
      "3 * 3 = 9\n",
      "3 * 4 = 12\n",
      "3 * 5 = 15\n",
      "3 * 6 = 18\n",
      "3 * 7 = 21\n",
      "3 * 8 = 24\n",
      "3 * 9 = 27\n",
      "3 * 10 = 30\n"
     ]
    }
   ],
   "source": [
    "# Iteration Method\n",
    "# Python Program to print table of a number\n",
    "# n = int(input());\n",
    "def printTable(n):\n",
    "    for i in range (1, 11): \n",
    "        print(f\"{n}*{i} = {n*i}\")\n",
    "# printTable(n)\n",
    "\n",
    "# Recursive Method\n",
    "n = int(input());\n",
    "def printT(n,i=1):\n",
    "    if (i ==11):\n",
    "        return\n",
    "    print(n,\"*\",i,\"=\",n*i)\n",
    "    i+=1\n",
    "    printT(n,i)\n",
    "printT(n)"
   ]
  },
  {
   "cell_type": "code",
   "execution_count": 5,
   "id": "fcef5c4a-6d2f-4a8a-b37e-f34496c2738b",
   "metadata": {},
   "outputs": [
    {
     "name": "stdout",
     "output_type": "stream",
     "text": [
      "15\n"
     ]
    }
   ],
   "source": [
    "# Sum of natural numbers --> 1,2,3,...N --> 1+2+3+4+5 = 15\n",
    "\n",
    "def sumOfN(n):\n",
    "    sum = 0\n",
    "    i = 1\n",
    "    while i<= n:\n",
    "        sum = sum + i\n",
    "        i +=1\n",
    "    return sum \n",
    "# print(sumOfN(5));\n",
    "\n",
    "\n",
    "# Recursive Method\n",
    "def findSum(n):\n",
    "    # base condition\n",
    "    if n == 1:\n",
    "        return 1\n",
    "    return n + findSum(n - 1)\n",
    "n = 5\n",
    "print(findSum(n))\n",
    "\n",
    "\n",
    "# Formula Method n*(n+1) //2\n",
    "def sumOfNat(n):\n",
    "    return  n*(n+1) //2\n",
    "# sumOfNat(5)\n"
   ]
  },
  {
   "cell_type": "code",
   "execution_count": 7,
   "id": "69bd9541-92c5-47f5-b3ca-c89e62cf63de",
   "metadata": {},
   "outputs": [
    {
     "name": "stdout",
     "output_type": "stream",
     "text": [
      "(3, 2)\n",
      "2 3\n",
      "3 2\n"
     ]
    }
   ],
   "source": [
    "# Swaping two numbers --> Built-in-swap\n",
    "def swap(a,b):\n",
    "    a,b = b, a\n",
    "    return a,b\n",
    "# swap(2,3)\n",
    "\n",
    "# Using third variable\n",
    "def swapNum(a,b):\n",
    "    temp = a\n",
    "    a = b\n",
    "    b = temp\n",
    "    return a,b\n",
    "print(swapNum(2,3))\n",
    "\n",
    "a,b = 2,3\n",
    "print(a,b)\n",
    "temp = a\n",
    "a = b\n",
    "b = temp\n",
    "print(a,b)\n",
    "\n"
   ]
  },
  {
   "cell_type": "code",
   "execution_count": 6,
   "id": "7eaa660d-3fbf-46d9-b96e-06e7d9636a7f",
   "metadata": {},
   "outputs": [
    {
     "data": {
      "text/plain": [
       "(3, 2)"
      ]
     },
     "execution_count": 6,
     "metadata": {},
     "output_type": "execute_result"
    }
   ],
   "source": [
    "def swap(a, b):\n",
    "    a, b = b, a   # swap values\n",
    "    return a, b   # return swapped values\n",
    "swap(2,3)\n",
    "# Example usage\n",
    "# x, y = 2, 3\n",
    "# x, y = swap(x, y)\n",
    "# print(x, y)\n"
   ]
  },
  {
   "cell_type": "code",
   "execution_count": 2,
   "id": "689ce0cd-f6a0-463a-ac78-5c91f3bc9072",
   "metadata": {},
   "outputs": [
    {
     "name": "stdout",
     "output_type": "stream",
     "text": [
      "12\n"
     ]
    }
   ],
   "source": [
    "def closestNumber(n, m) :\n",
    "    q = int(n / m)\n",
    "    \n",
    "    # 1st possible closest number\n",
    "    n1 = m * q\n",
    "    \n",
    "    # 2nd possible closest number\n",
    "    if((n * m) > 0) :\n",
    "        n2 = (m * (q + 1)) \n",
    "    else :\n",
    "        n2 = (m * (q - 1))\n",
    "    \n",
    "    # if true, then n1 is the required closest number\n",
    "    if (abs(n - n1) < abs(n - n2)) :\n",
    "        return n1\n",
    "    \n",
    "    # else n2 is the required closest number \n",
    "    return n2\n",
    "    \n",
    "    \n",
    "if __name__ == \"__main__\":\n",
    "  n = 13; m = 4\n",
    "  print(closestNumber(n, m)) "
   ]
  }
 ],
 "metadata": {
  "kernelspec": {
   "display_name": "Python [conda env:base] *",
   "language": "python",
   "name": "conda-base-py"
  },
  "language_info": {
   "codemirror_mode": {
    "name": "ipython",
    "version": 3
   },
   "file_extension": ".py",
   "mimetype": "text/x-python",
   "name": "python",
   "nbconvert_exporter": "python",
   "pygments_lexer": "ipython3",
   "version": "3.13.5"
  }
 },
 "nbformat": 4,
 "nbformat_minor": 5
}
