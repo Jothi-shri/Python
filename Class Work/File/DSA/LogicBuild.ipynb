{
 "cells": [
  {
   "cell_type": "code",
   "execution_count": 12,
   "id": "fb5cc81c-2581-47f4-8c36-2876fca96696",
   "metadata": {},
   "outputs": [
    {
     "name": "stdin",
     "output_type": "stream",
     "text": [
      " 13\n"
     ]
    },
    {
     "name": "stdout",
     "output_type": "stream",
     "text": [
      "Odd\n"
     ]
    }
   ],
   "source": [
    "# Odd or Even\n",
    "def Even(n):\n",
    "    if  n %2 == 0:\n",
    "        print(\"Even\");\n",
    "    else:\n",
    "        print(\"odd\");\n",
    "# Even(14)\n",
    "\n",
    "# Using Binary \n",
    "# Even --> ends with 0 ,ends with 1\n",
    "i = int(input());\n",
    "def OddorEven():\n",
    "    if (i & 1) == 0:\n",
    "        print(\"Even\");\n",
    "    else:\n",
    "        print(\"Odd\");\n",
    "OddorEven()"
   ]
  },
  {
   "cell_type": "code",
   "execution_count": 7,
   "id": "a8779ae0-82c9-4633-8900-5d6080f9d3a0",
   "metadata": {},
   "outputs": [
    {
     "name": "stdin",
     "output_type": "stream",
     "text": [
      " 3\n"
     ]
    },
    {
     "name": "stdout",
     "output_type": "stream",
     "text": [
      "3 * 1 = 3\n",
      "3 * 2 = 6\n",
      "3 * 3 = 9\n",
      "3 * 4 = 12\n",
      "3 * 5 = 15\n",
      "3 * 6 = 18\n",
      "3 * 7 = 21\n",
      "3 * 8 = 24\n",
      "3 * 9 = 27\n",
      "3 * 10 = 30\n"
     ]
    }
   ],
   "source": [
    "# Iteration Method\n",
    "# Python Program to print table of a number\n",
    "# n = int(input());\n",
    "def printTable(n):\n",
    "    for i in range (1, 11): \n",
    "        print(f\"{n}*{i} = {n*i}\")\n",
    "# printTable(n)\n",
    "\n",
    "# Recursive Method\n",
    "n = int(input());\n",
    "def printT(n,i=1):\n",
    "    if (i ==11):\n",
    "        return\n",
    "    print(n,\"*\",i,\"=\",n*i)\n",
    "    i+=1\n",
    "    printT(n,i)\n",
    "printT(n)"
   ]
  },
  {
   "cell_type": "code",
   "execution_count": 5,
   "id": "fcef5c4a-6d2f-4a8a-b37e-f34496c2738b",
   "metadata": {},
   "outputs": [
    {
     "name": "stdout",
     "output_type": "stream",
     "text": [
      "15\n"
     ]
    }
   ],
   "source": [
    "# Sum of natural numbers --> 1,2,3,...N --> 1+2+3+4+5 = 15\n",
    "\n",
    "def sumOfN(n):\n",
    "    sum = 0\n",
    "    i = 1\n",
    "    while i<= n:\n",
    "        sum = sum + i\n",
    "        i +=1\n",
    "    return sum \n",
    "# print(sumOfN(5));\n",
    "\n",
    "\n",
    "# Recursive Method\n",
    "def findSum(n):\n",
    "    # base condition\n",
    "    if n == 1:\n",
    "        return 1\n",
    "    return n + findSum(n - 1)\n",
    "n = 5\n",
    "print(findSum(n))\n",
    "\n",
    "\n",
    "# Formula Method n*(n+1) //2\n",
    "def sumOfNat(n):\n",
    "    return  n*(n+1) //2\n",
    "# sumOfNat(5)\n"
   ]
  },
  {
   "cell_type": "code",
   "execution_count": 2,
   "id": "69bd9541-92c5-47f5-b3ca-c89e62cf63de",
   "metadata": {},
   "outputs": [
    {
     "name": "stdout",
     "output_type": "stream",
     "text": [
      " 8 * 1 = 8\n",
      " 8 * 2 = 16\n",
      " 8 * 3 = 24\n",
      " 8 * 4 = 32\n",
      " 8 * 5 = 40\n",
      " 8 * 6 = 48\n",
      " 8 * 7 = 56\n",
      " 8 * 8 = 64\n",
      " 8 * 9 = 72\n",
      " 8 * 10 = 80\n"
     ]
    }
   ],
   "source": []
  },
  {
   "cell_type": "code",
   "execution_count": null,
   "id": "7eaa660d-3fbf-46d9-b96e-06e7d9636a7f",
   "metadata": {},
   "outputs": [],
   "source": []
  }
 ],
 "metadata": {
  "kernelspec": {
   "display_name": "Python [conda env:base] *",
   "language": "python",
   "name": "conda-base-py"
  },
  "language_info": {
   "codemirror_mode": {
    "name": "ipython",
    "version": 3
   },
   "file_extension": ".py",
   "mimetype": "text/x-python",
   "name": "python",
   "nbconvert_exporter": "python",
   "pygments_lexer": "ipython3",
   "version": "3.13.5"
  }
 },
 "nbformat": 4,
 "nbformat_minor": 5
}
