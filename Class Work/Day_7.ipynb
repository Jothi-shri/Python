{
 "cells": [
  {
   "cell_type": "code",
   "execution_count": 2,
   "id": "8bc4e627-e3e5-4444-b48e-f1bd84c71d10",
   "metadata": {},
   "outputs": [
    {
     "name": "stdout",
     "output_type": "stream",
     "text": [
      "[78, [45, 56], 89]\n"
     ]
    }
   ],
   "source": [
    "k = [1,2,3,[78,[45,56],89],7,8]\n",
    "print(k[3]);\n"
   ]
  },
  {
   "cell_type": "code",
   "execution_count": 5,
   "id": "e973abd3-ff34-4741-95ac-65c47badf5e4",
   "metadata": {},
   "outputs": [
    {
     "name": "stdout",
     "output_type": "stream",
     "text": [
      "[2, 3, 8, 9, 10]\n"
     ]
    }
   ],
   "source": [
    "l= [2,4,6,8,9,10]\n",
    "l[1:3]=[3]\n",
    "print(l);"
   ]
  },
  {
   "cell_type": "code",
   "execution_count": 4,
   "id": "0cc0ffbf-2ce2-4f0b-9580-7d8c34e873c8",
   "metadata": {},
   "outputs": [
    {
     "name": "stdout",
     "output_type": "stream",
     "text": [
      "hi\n"
     ]
    }
   ],
   "source": [
    "print(\"hi\")"
   ]
  },
  {
   "cell_type": "code",
   "execution_count": null,
   "id": "f70d65f3-92df-48ed-86f1-4f15175f8082",
   "metadata": {},
   "outputs": [],
   "source": []
  }
 ],
 "metadata": {
  "kernelspec": {
   "display_name": "Python [conda env:base] *",
   "language": "python",
   "name": "conda-base-py"
  },
  "language_info": {
   "codemirror_mode": {
    "name": "ipython",
    "version": 3
   },
   "file_extension": ".py",
   "mimetype": "text/x-python",
   "name": "python",
   "nbconvert_exporter": "python",
   "pygments_lexer": "ipython3",
   "version": "3.13.5"
  }
 },
 "nbformat": 4,
 "nbformat_minor": 5
}
