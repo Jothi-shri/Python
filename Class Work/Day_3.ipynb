{
 "cells": [
  {
   "cell_type": "code",
   "execution_count": 9,
   "id": "337ec148-50fc-4a34-b5d4-23fad49f5457",
   "metadata": {},
   "outputs": [
    {
     "data": {
      "text/plain": [
       "'\\nk = hello \\nHow are u doing \\n'"
      ]
     },
     "execution_count": 9,
     "metadata": {},
     "output_type": "execute_result"
    }
   ],
   "source": [
    "k  = \"Hello\"\n",
    "# Para print\n",
    "\"\"\"k = hello \n",
    "How are u doing \"\"\"\n"
   ]
  },
  {
   "cell_type": "code",
   "execution_count": 7,
   "id": "f051a30b-928a-47a3-80a8-ff3693ae34ab",
   "metadata": {},
   "outputs": [],
   "source": [
    "k= 343"
   ]
  },
  {
   "cell_type": "code",
   "execution_count": 13,
   "id": "734b0c61-a8ca-4876-9068-e3ee0a43e95c",
   "metadata": {},
   "outputs": [
    {
     "name": "stdout",
     "output_type": "stream",
     "text": [
      "  HELLO, WORLD !  \n",
      "This is john\n",
      "  hello, world !  \n",
      "Hello, World !\n"
     ]
    }
   ],
   "source": [
    "char = \"  Hello, World !  \"\n",
    "print(char.upper())\n",
    "char1 = \"this is John\"\n",
    "print(char1.capitalize())\n",
    "print(char.lower())\n",
    "print(char.strip())"
   ]
  },
  {
   "cell_type": "code",
   "execution_count": null,
   "id": "2663e1b7-32fc-4442-b0e6-cef396e1474c",
   "metadata": {},
   "outputs": [],
   "source": []
  }
 ],
 "metadata": {
  "kernelspec": {
   "display_name": "Python [conda env:base] *",
   "language": "python",
   "name": "conda-base-py"
  },
  "language_info": {
   "codemirror_mode": {
    "name": "ipython",
    "version": 3
   },
   "file_extension": ".py",
   "mimetype": "text/x-python",
   "name": "python",
   "nbconvert_exporter": "python",
   "pygments_lexer": "ipython3",
   "version": "3.13.5"
  }
 },
 "nbformat": 4,
 "nbformat_minor": 5
}
