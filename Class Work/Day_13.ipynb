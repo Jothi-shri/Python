{
 "cells": [
  {
   "cell_type": "code",
   "execution_count": 1,
   "id": "02289d4f-1ede-4c68-be0b-d59a64441348",
   "metadata": {},
   "outputs": [
    {
     "name": "stdin",
     "output_type": "stream",
     "text": [
      "Enter a number:  10\n"
     ]
    },
    {
     "name": "stdout",
     "output_type": "stream",
     "text": [
      "1 + 9\n",
      "2 + 8\n",
      "3 + 7\n",
      "4 + 6\n",
      "5 + 5\n",
      "6 + 4\n",
      "7 + 3\n",
      "8 + 2\n",
      "9 + 1\n"
     ]
    }
   ],
   "source": [
    "k = int(input(\"Enter a number: \"))\n",
    "\n",
    "i = 1\n",
    "while i < k:\n",
    "    print(i, \"+\", (k - i))\n",
    "    i = i + 1\n",
    "    \n"
   ]
  },
  {
   "cell_type": "code",
   "execution_count": 4,
   "id": "f985efef-38b3-4374-acee-62815cd23f74",
   "metadata": {},
   "outputs": [
    {
     "name": "stdout",
     "output_type": "stream",
     "text": [
      "11\n"
     ]
    }
   ],
   "source": [
    "# static,dynamic var & local,global var\n",
    "def add(a,b):\n",
    "    c = a+b;\n",
    "    print(c)\n",
    "add(5,6)"
   ]
  }
 ],
 "metadata": {
  "kernelspec": {
   "display_name": "Python [conda env:base] *",
   "language": "python",
   "name": "conda-base-py"
  },
  "language_info": {
   "codemirror_mode": {
    "name": "ipython",
    "version": 3
   },
   "file_extension": ".py",
   "mimetype": "text/x-python",
   "name": "python",
   "nbconvert_exporter": "python",
   "pygments_lexer": "ipython3",
   "version": "3.13.5"
  }
 },
 "nbformat": 4,
 "nbformat_minor": 5
}
