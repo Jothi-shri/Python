{
 "cells": [
  {
   "cell_type": "code",
   "execution_count": 8,
   "id": "5ca32af7-f846-4019-949f-ccf631991274",
   "metadata": {},
   "outputs": [
    {
     "name": "stdout",
     "output_type": "stream",
     "text": [
      "English 95\n"
     ]
    }
   ],
   "source": [
    "mark = {\"Tamil\": 90, \"English\": 95, \"Maths\": 91}\n",
    "\n",
    "maximum_subject = \"\"\n",
    "maximum_score = 0\n",
    "\n",
    "for subject in mark:\n",
    "    score = int(mark[subject])\n",
    "    if score > maximum_score:\n",
    "        maximum_score = score\n",
    "        maximum_subject = subject\n",
    "\n",
    "print(maximum_subject, maximum_score)\n",
    "\n"
   ]
  },
  {
   "cell_type": "code",
   "execution_count": 13,
   "id": "36d0af1f-5fec-4a3f-a78f-6199db45b801",
   "metadata": {},
   "outputs": [
    {
     "name": "stdout",
     "output_type": "stream",
     "text": [
      "7\n",
      "None\n"
     ]
    }
   ],
   "source": [
    "class calci:\n",
    "  def add(self):\n",
    "      a = 3\n",
    "      b = 4\n",
    "      print(a + b)\n",
    "\n",
    "  def sub(self):\n",
    "      a = 4\n",
    "      b = 6\n",
    "      print(a - b)\n",
    "cal = calci()\n",
    "s= cal.add()\n",
    "print(s);"
   ]
  },
  {
   "cell_type": "code",
   "execution_count": null,
   "id": "6c469e33-afd6-4ebe-9a93-33c439f0acdf",
   "metadata": {},
   "outputs": [],
   "source": [
    "# same class name in multiple classes is called polymorphism\n",
    "add = num1-num2\n",
    "sub\n",
    "result = add * sub\n",
    "result2 = result / add\n",
    "\n",
    "# dictionary --> table\n",
    "col_name --> keyname\n",
    "col_name --> values\n",
    "\n",
    "d = {\"user1\":{\"name\":\"raja\",\"age\":\"890\",\"depart\":\"hxvd\"},\n",
    "     \"user2\":{\"name\":\"raja\",\"age\":\"890\",\"depart\":\"hxvd\"}}\n",
    "add,update,delete"
   ]
  },
  {
   "cell_type": "code",
   "execution_count": 6,
   "id": "42974a7d-a0cf-47a7-a4c5-153031c6e771",
   "metadata": {},
   "outputs": [
    {
     "name": "stdin",
     "output_type": "stream",
     "text": [
      "Enter first number:  6\n",
      "Enter second number:  3\n"
     ]
    },
    {
     "name": "stdout",
     "output_type": "stream",
     "text": [
      "9\n",
      "3\n",
      "27\n",
      "3.0\n"
     ]
    }
   ],
   "source": [
    "class Calculator:\n",
    "    def __init__(self, num1, num2):\n",
    "        self.num1 = num1\n",
    "        self.num2 = num2\n",
    "\n",
    "    def calculate(self):\n",
    "        add = self.num1 + self.num2\n",
    "        sub = self.num1 - self.num2\n",
    "        result = add * sub\n",
    "        result2 = result / add\n",
    "        \n",
    "        return add, sub, result, result2\n",
    "        \n",
    "num1 = int(input(\"Enter first number: \"))\n",
    "num2 = int(input(\"Enter second number: \"))\n",
    "\n",
    "calc = Calculator(num1, num2)\n",
    "add, sub, result, result2 = calc.calculate()\n",
    "\n",
    "print( add)\n",
    "print( sub)\n",
    "print( result)\n",
    "print( result2)\n"
   ]
  }
 ],
 "metadata": {
  "kernelspec": {
   "display_name": "Python [conda env:base] *",
   "language": "python",
   "name": "conda-base-py"
  },
  "language_info": {
   "codemirror_mode": {
    "name": "ipython",
    "version": 3
   },
   "file_extension": ".py",
   "mimetype": "text/x-python",
   "name": "python",
   "nbconvert_exporter": "python",
   "pygments_lexer": "ipython3",
   "version": "3.13.5"
  }
 },
 "nbformat": 4,
 "nbformat_minor": 5
}
