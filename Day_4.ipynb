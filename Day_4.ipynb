{
 "cells": [
  {
   "cell_type": "code",
   "execution_count": 5,
   "id": "79c4b8f2-72a6-497b-a6b8-ef7f9c0db4bd",
   "metadata": {},
   "outputs": [
    {
     "name": "stdin",
     "output_type": "stream",
     "text": [
      "Enter a num1 3\n",
      "Enter a num2 10\n"
     ]
    },
    {
     "name": "stdout",
     "output_type": "stream",
     "text": [
      "0.3\n",
      "3\n",
      "0\n",
      "59049\n"
     ]
    }
   ],
   "source": [
    "# Arithmatic Operators\n",
    "a = int (input(\"Enter a num1\"))\n",
    "b = int (input(\"Enter a num2\"))\n",
    "\n",
    "print(a / b)\n",
    "print(a % b)\n",
    "\n",
    "# floor division --> Quotient\n",
    "print(a // b)\n",
    "\n",
    "# Power\n",
    "print(a ** b)"
   ]
  },
  {
   "cell_type": "code",
   "execution_count": 17,
   "id": "0697398f-0c99-4f3f-be29-6c3ba3e8440b",
   "metadata": {},
   "outputs": [
    {
     "name": "stdout",
     "output_type": "stream",
     "text": [
      "True\n",
      "False\n",
      "False\n"
     ]
    }
   ],
   "source": [
    "a = 10\n",
    "b =  7\n",
    "\n",
    "print(a>5 and b<50)\n",
    "print(a==10 and a==7)\n",
    "print(not(a==10 and b==7))"
   ]
  },
  {
   "cell_type": "code",
   "execution_count": null,
   "id": "f0bcd0bf-7a49-4b1f-bbe2-b838ab784ece",
   "metadata": {},
   "outputs": [],
   "source": []
  }
 ],
 "metadata": {
  "kernelspec": {
   "display_name": "Python [conda env:base] *",
   "language": "python",
   "name": "conda-base-py"
  },
  "language_info": {
   "codemirror_mode": {
    "name": "ipython",
    "version": 3
   },
   "file_extension": ".py",
   "mimetype": "text/x-python",
   "name": "python",
   "nbconvert_exporter": "python",
   "pygments_lexer": "ipython3",
   "version": "3.13.5"
  }
 },
 "nbformat": 4,
 "nbformat_minor": 5
}
