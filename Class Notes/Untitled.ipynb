{
 "cells": [
  {
   "cell_type": "code",
   "execution_count": null,
   "id": "a4b43966-2ea0-45b2-9237-729e2ac6cdf6",
   "metadata": {},
   "outputs": [],
   "source": []
  }
 ],
 "metadata": {
  "kernelspec": {
   "display_name": "",
   "name": ""
  },
  "language_info": {
   "name": ""
  }
 },
 "nbformat": 4,
 "nbformat_minor": 5
}
