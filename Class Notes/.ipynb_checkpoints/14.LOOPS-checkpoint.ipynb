{
 "cells": [
  {
   "cell_type": "markdown",
   "id": "e6a32baf-2710-4e11-a817-838ea810626a",
   "metadata": {},
   "source": [
    "# for loops"
   ]
  },
  {
   "cell_type": "code",
   "execution_count": 1,
   "id": "c571c981-c6c3-4237-a481-adec5eb40561",
   "metadata": {},
   "outputs": [
    {
     "name": "stdout",
     "output_type": "stream",
     "text": [
      "apple\n",
      "banana\n",
      "cherry\n"
     ]
    }
   ],
   "source": [
    "fruits = [\"apple\", \"banana\", \"cherry\"]\n",
    "for i in fruits:\n",
    "  print(i)"
   ]
  },
  {
   "cell_type": "code",
   "execution_count": 14,
   "id": "93887134-99b7-4b93-ac10-9cc0d995eb58",
   "metadata": {},
   "outputs": [
    {
     "name": "stdout",
     "output_type": "stream",
     "text": [
      "lit1\n",
      "1 1\n",
      "1 2\n",
      "1 3\n",
      "lit2\n",
      "2 1\n",
      "2 2\n",
      "2 3\n",
      "lit3\n",
      "3 1\n",
      "3 2\n",
      "3 3\n"
     ]
    }
   ],
   "source": [
    "fruits = [1,2,3]\n",
    "for i in fruits:\n",
    "    print(f\"lit{i}\")\n",
    "    for j in fruits:\n",
    "        print(i,j)\n",
    "\n",
    "    #     for i in lines:\n",
    "    # print(f\"lit {i}\")\n"
   ]
  },
  {
   "cell_type": "code",
   "execution_count": 15,
   "id": "922ca14c-1de6-41ec-b6f5-b23c06d428fd",
   "metadata": {},
   "outputs": [
    {
     "name": "stdout",
     "output_type": "stream",
     "text": [
      "b\n",
      "a\n",
      "n\n",
      "a\n",
      "n\n",
      "a\n"
     ]
    }
   ],
   "source": [
    "a=\"banana\"\n",
    "for x in a:\n",
    "  print(x)"
   ]
  },
  {
   "cell_type": "code",
   "execution_count": 16,
   "id": "250e4012-68f1-490e-8d39-de614078fb25",
   "metadata": {},
   "outputs": [
    {
     "name": "stdout",
     "output_type": "stream",
     "text": [
      "1\n",
      "3\n",
      "4\n",
      "545\n",
      "1\n",
      "4\n",
      "3\n"
     ]
    }
   ],
   "source": [
    "l=[1,3,4,545,1,4,3]\n",
    "for i in l:\n",
    "    print(i)"
   ]
  },
  {
   "cell_type": "code",
   "execution_count": 17,
   "id": "97ffb44d-aaa1-430a-b2bb-c79eb563182a",
   "metadata": {},
   "outputs": [
    {
     "name": "stdout",
     "output_type": "stream",
     "text": [
      "0\n",
      "1\n",
      "2\n",
      "3\n",
      "4\n",
      "6\n",
      "7\n",
      "8\n",
      "9\n",
      "10\n"
     ]
    }
   ],
   "source": [
    "for i in range(11):\n",
    "  if i==5:\n",
    "      continue\n",
    "  print(i)\n",
    "      \n",
    "      "
   ]
  },
  {
   "cell_type": "code",
   "execution_count": 18,
   "id": "9cc0b822-8db6-40d7-9c2e-39be8bb41b7b",
   "metadata": {},
   "outputs": [
    {
     "name": "stdout",
     "output_type": "stream",
     "text": [
      "2\n",
      "3\n",
      "4\n",
      "5\n",
      "6\n",
      "7\n",
      "8\n",
      "9\n",
      "10\n",
      "11\n",
      "12\n",
      "13\n",
      "14\n",
      "15\n",
      "16\n",
      "17\n",
      "18\n",
      "19\n",
      "20\n",
      "21\n",
      "22\n",
      "23\n",
      "24\n",
      "25\n",
      "26\n",
      "27\n",
      "28\n",
      "29\n",
      "30\n",
      "31\n",
      "32\n",
      "33\n",
      "34\n",
      "35\n",
      "36\n",
      "37\n",
      "38\n",
      "39\n",
      "40\n",
      "41\n",
      "42\n",
      "43\n",
      "44\n",
      "45\n",
      "46\n",
      "47\n",
      "48\n",
      "49\n",
      "50\n",
      "51\n",
      "52\n",
      "53\n",
      "54\n",
      "55\n",
      "56\n",
      "57\n",
      "58\n",
      "59\n"
     ]
    }
   ],
   "source": [
    "for x in range(2, 60):\n",
    "  print(x)"
   ]
  },
  {
   "cell_type": "code",
   "execution_count": 19,
   "id": "17cb2f07-0ea2-4065-b3cf-e28b6ed70ff1",
   "metadata": {},
   "outputs": [
    {
     "name": "stdout",
     "output_type": "stream",
     "text": [
      "2\n",
      "5\n",
      "8\n",
      "11\n",
      "14\n",
      "17\n",
      "20\n",
      "23\n",
      "26\n",
      "29\n"
     ]
    }
   ],
   "source": [
    "for x in range(2, 30, 3):\n",
    "  print(x)\n",
    "2,3,4,5,6,7,8,9,10\n",
    "0,1,2,3,4,5,6,7,8"
   ]
  },
  {
   "cell_type": "code",
   "execution_count": 34,
   "id": "23749bc5-3f1a-4f79-9bb5-e3912e8a23e4",
   "metadata": {},
   "outputs": [
    {
     "name": "stdout",
     "output_type": "stream",
     "text": [
      "3 x 1 = 3\n",
      "3 x 2 = 6\n",
      "3 x 3 = 9\n",
      "3 x 4 = 12\n",
      "3 x 5 = 15\n",
      "3 x 6 = 18\n",
      "3 x 7 = 21\n",
      "3 x 8 = 24\n",
      "3 x 9 = 27\n",
      "3 x 10 = 30\n"
     ]
    }
   ],
   "source": [
    "# for i in range(1,11): tables upto 10 \n",
    "i = 3\n",
    "# for i in range(3,4): #only 3 table\n",
    "for j in range(1, 11):\n",
    "    print(f\"{i} x {j} = {i*j}\")\n",
    "        \n"
   ]
  },
  {
   "cell_type": "code",
   "execution_count": 30,
   "id": "779e8d64-7ceb-46a2-abaa-633720361f6c",
   "metadata": {},
   "outputs": [
    {
     "name": "stdout",
     "output_type": "stream",
     "text": [
      "3 x 1 = 3\n",
      "3 x 2 = 6\n",
      "3 x 3 = 9\n",
      "3 x 4 = 12\n",
      "3 x 5 = 15\n",
      "3 x 6 = 18\n",
      "3 x 7 = 21\n",
      "3 x 8 = 24\n",
      "3 x 9 = 27\n",
      "3 x 10 = 30\n"
     ]
    }
   ],
   "source": [
    "i =3\n",
    "j_val = [1,2,3,4,5,6,7,8,9,10]\n",
    "for j in j_val:\n",
    "        print(f\"{i} x {j} = {i*j}\")\n"
   ]
  },
  {
   "cell_type": "code",
   "execution_count": 28,
   "id": "8faf7cd2-a581-4eba-a5c2-846a580a8f77",
   "metadata": {},
   "outputs": [],
   "source": [
    "for x in range(2, 30):\n",
    "    pass\n",
    " "
   ]
  },
  {
   "cell_type": "code",
   "execution_count": null,
   "id": "b1f128f5-6ec1-4722-995c-04b56f0a1c01",
   "metadata": {},
   "outputs": [],
   "source": [
    "k={1,3,5,8,98}\n",
    "for i in k:\n",
    "    if i %2==0:\n",
    "        print(i,\"even\")\n",
    "    else:\n",
    "        print(i,\"odd\")"
   ]
  },
  {
   "cell_type": "code",
   "execution_count": null,
   "id": "205d21a9-6ae5-447a-a7f3-9efab1c0df74",
   "metadata": {},
   "outputs": [],
   "source": [
    "for x in range(2, 30, 3):\n",
    "  if x==8:\n",
    "        break\n",
    "  print(x)"
   ]
  },
  {
   "cell_type": "code",
   "execution_count": 37,
   "id": "e7a72634-0845-477d-a758-61f2fba3e223",
   "metadata": {},
   "outputs": [
    {
     "name": "stdout",
     "output_type": "stream",
     "text": [
      "[1, 2]\n",
      "1\n",
      "2\n",
      "[3, 4]\n",
      "3\n",
      "4\n",
      "[5, 6]\n",
      "5\n",
      "6\n"
     ]
    }
   ],
   "source": [
    "for x in range(2, 30, 3):\n",
    "    pass\n",
    "matrix = [[1, 2], [3, 4], [5, 6]]\n",
    "for i in matrix:\n",
    "    print(i)\n",
    "    for j in i:\n",
    "        print(j)\n",
    "\n",
    "# for row in matrix:\n",
    "#     for value in row:\n",
    "#         print(value)\n",
    "\n",
    "\n"
   ]
  },
  {
   "cell_type": "code",
   "execution_count": 39,
   "id": "349c05fa-c067-4f46-adea-9f10b3e12497",
   "metadata": {},
   "outputs": [
    {
     "name": "stdout",
     "output_type": "stream",
     "text": [
      "1\n",
      "3\n",
      "7\n"
     ]
    }
   ],
   "source": [
    "l={\"k\":1,\"k2\":3,\"j1\":7}\n",
    "# for i in l.keys():\n",
    "for i in l.values():\n",
    "    print(i)"
   ]
  },
  {
   "cell_type": "code",
   "execution_count": 40,
   "id": "72b80df5-9f69-4674-afa7-3b4f6849779b",
   "metadata": {},
   "outputs": [
    {
     "name": "stdout",
     "output_type": "stream",
     "text": [
      "hi\n",
      "1\n",
      "3\n",
      "3\n",
      "4\n",
      "6\n",
      "8\n",
      "9\n",
      "8\n",
      "7\n",
      "apple\n"
     ]
    }
   ],
   "source": [
    "l=(\"hi\",1,3,3,4,6,8,9,8,7,\"apple\",)\n",
    "for i in l:\n",
    "    print(i)"
   ]
  },
  {
   "cell_type": "code",
   "execution_count": 41,
   "id": "38b010d4-27af-432c-8b0b-462f4f3b223f",
   "metadata": {},
   "outputs": [
    {
     "name": "stdout",
     "output_type": "stream",
     "text": [
      "6\n"
     ]
    }
   ],
   "source": [
    "k=[1,3,45,6,889,90]\n",
    "for i,j in enumerate(k):\n",
    "    if i==3:\n",
    "        print(j)"
   ]
  },
  {
   "cell_type": "code",
   "execution_count": 46,
   "id": "eeaf50c8-a167-43b1-b5d2-9d432cc05b84",
   "metadata": {},
   "outputs": [
    {
     "ename": "TypeError",
     "evalue": "cannot unpack non-iterable int object",
     "output_type": "error",
     "traceback": [
      "\u001b[1;31m---------------------------------------------------------------------------\u001b[0m",
      "\u001b[1;31mTypeError\u001b[0m                                 Traceback (most recent call last)",
      "Cell \u001b[1;32mIn[46], line 2\u001b[0m\n\u001b[0;32m      1\u001b[0m k\u001b[38;5;241m=\u001b[39m[\u001b[38;5;241m1\u001b[39m,\u001b[38;5;241m3\u001b[39m,\u001b[38;5;241m45\u001b[39m,\u001b[38;5;241m6\u001b[39m,\u001b[38;5;241m889\u001b[39m,\u001b[38;5;241m90\u001b[39m]\n\u001b[1;32m----> 2\u001b[0m \u001b[38;5;28;01mfor\u001b[39;00m i,j \u001b[38;5;129;01min\u001b[39;00m k:\n\u001b[0;32m      3\u001b[0m     \u001b[38;5;66;03m# if i==3:\u001b[39;00m\n\u001b[0;32m      4\u001b[0m         \u001b[38;5;28mprint\u001b[39m(i[j])\n",
      "\u001b[1;31mTypeError\u001b[0m: cannot unpack non-iterable int object"
     ]
    }
   ],
   "source": [
    "k=[1,3,45,6,889,90]\n",
    "\n",
    "for i,j in k:\n",
    "        print(i[j])"
   ]
  },
  {
   "cell_type": "markdown",
   "id": "da83e68f-9737-42f7-8999-9ddfcf91a2cf",
   "metadata": {},
   "source": [
    "# while loops"
   ]
  },
  {
   "cell_type": "code",
   "execution_count": null,
   "id": "8a800f73-e146-45c3-8963-b2e6c18f8703",
   "metadata": {},
   "outputs": [],
   "source": [
    "i = 0\n",
    "\n",
    "while i <=7:\n",
    "    pass\n",
    "    \n",
    "print(\"hi\")\n",
    "\n"
   ]
  },
  {
   "cell_type": "code",
   "execution_count": null,
   "id": "b516eb44-367b-441b-ad41-6d3d35c05c7c",
   "metadata": {},
   "outputs": [],
   "source": [
    "i = 0\n",
    "while i < 6:\n",
    "  i += 1\n",
    "  if i == 3:\n",
    "    continue\n",
    "  print(i)\n",
    "\n"
   ]
  },
  {
   "cell_type": "raw",
   "id": "874cf0b1-414b-4da0-b8da-1e54c6cabda6",
   "metadata": {},
   "source": []
  }
 ],
 "metadata": {
  "kernelspec": {
   "display_name": "Python [conda env:base] *",
   "language": "python",
   "name": "conda-base-py"
  },
  "language_info": {
   "codemirror_mode": {
    "name": "ipython",
    "version": 3
   },
   "file_extension": ".py",
   "mimetype": "text/x-python",
   "name": "python",
   "nbconvert_exporter": "python",
   "pygments_lexer": "ipython3",
   "version": "3.13.5"
  }
 },
 "nbformat": 4,
 "nbformat_minor": 5
}
