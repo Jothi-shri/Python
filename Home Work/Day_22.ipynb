{
 "cells": [
  {
   "cell_type": "code",
   "execution_count": 8,
   "id": "b373db36-37ac-4a49-8435-19619bf82162",
   "metadata": {},
   "outputs": [
    {
     "name": "stdout",
     "output_type": "stream",
     "text": [
      "2D Array: [[1 2]\n",
      " [3 4]]\n",
      "1D Array: [1 2 3 4]\n",
      "3D Array: [[[1]\n",
      "  [2]]\n",
      "\n",
      " [[3]\n",
      "  [4]]]\n"
     ]
    }
   ],
   "source": [
    "import numpy as np\n",
    "\n",
    "\n",
    "a = np.array([[1, 2], [3, 4]])\n",
    "print(\"2D Array:\", a)\n",
    "\n",
    "# Convert 2D → 1D\n",
    "one_d = a.reshape(4)   \n",
    "print(\"1D Array:\", one_d)\n",
    "\n",
    "# Convert 2D → 3D\n",
    "three_d = a.reshape(2, 2, 1)  \n",
    "print(\"3D Array:\", three_d)\n"
   ]
  },
  {
   "cell_type": "code",
   "execution_count": 16,
   "id": "34740a10-992e-46fc-86e1-120f9b156e2d",
   "metadata": {},
   "outputs": [
    {
     "name": "stdout",
     "output_type": "stream",
     "text": [
      "Original 3D: [[[ 1  2  3]\n",
      "  [ 4  5  6]]\n",
      "\n",
      " [[ 7  8  9]\n",
      "  [10 11 12]]]\n",
      "2D: [[ 1  2  3]\n",
      " [ 4  5  6]\n",
      " [ 7  8  9]\n",
      " [10 11 12]]\n",
      "Converted 1D: [ 1  2  3  4  5  6  7  8  9 10 11 12]\n"
     ]
    }
   ],
   "source": [
    "import numpy as np\n",
    "\n",
    "a = np.array([[[1, 2, 3], [4, 5, 6]],\n",
    "              [[7, 8, 9], [10, 11, 12]]])\n",
    "\n",
    "print(\"Original 3D:\", a)\n",
    "shape = a.reshape(4,3)\n",
    "print(\"2D:\",shape)\n",
    "  \n",
    "\n",
    "\n",
    "b = a.reshape(12)  \n",
    "print(\"Converted 1D:\", b)\n",
    "\n",
    "\n"
   ]
  }
 ],
 "metadata": {
  "kernelspec": {
   "display_name": "Python [conda env:base] *",
   "language": "python",
   "name": "conda-base-py"
  },
  "language_info": {
   "codemirror_mode": {
    "name": "ipython",
    "version": 3
   },
   "file_extension": ".py",
   "mimetype": "text/x-python",
   "name": "python",
   "nbconvert_exporter": "python",
   "pygments_lexer": "ipython3",
   "version": "3.13.5"
  }
 },
 "nbformat": 4,
 "nbformat_minor": 5
}
