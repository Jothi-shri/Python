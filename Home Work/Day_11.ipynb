{
 "cells": [
  {
   "cell_type": "code",
   "execution_count": 3,
   "id": "a251f0fc-c9f0-47a5-ad92-07ed34a8b2a2",
   "metadata": {},
   "outputs": [
    {
     "name": "stdout",
     "output_type": "stream",
     "text": [
      "5\n",
      "6\n",
      "8\n",
      "10\n",
      "7\n",
      "17\n"
     ]
    }
   ],
   "source": [
    "t = [5, 6, 8, 10, 7, 17]\n",
    "for s in t:\n",
    "    print(s);"
   ]
  },
  {
   "cell_type": "code",
   "execution_count": 2,
   "id": "e4f53ce9-a976-48ca-9cfc-c4f4071dd6bd",
   "metadata": {},
   "outputs": [
    {
     "name": "stdout",
     "output_type": "stream",
     "text": [
      "Minimum: 5\n",
      "Second Minimum: 5\n",
      "Maximum: 17\n",
      "Second Maximum: 10\n"
     ]
    }
   ],
   "source": [
    "t = [5, 6, 8, 10, 7, 17]\n",
    "\n",
    "i = 0\n",
    "for num in t:\n",
    "    if i == 0:   # first element\n",
    "        minimum = num\n",
    "        maximum = num\n",
    "        second_min = num\n",
    "        second_max = num\n",
    "    else:\n",
    "        # check min and second min\n",
    "        if num < minimum:\n",
    "            second_min = minimum\n",
    "            minimum = num\n",
    "        elif num < second_min and num != minimum:\n",
    "            second_min = num\n",
    "\n",
    "        # check max and second max\n",
    "        if num > maximum:\n",
    "            second_max = maximum\n",
    "            maximum = num\n",
    "        elif num > second_max and num != maximum:\n",
    "            second_max = num\n",
    "    i += 1\n",
    "\n",
    "print(\"Minimum:\", minimum)\n",
    "print(\"Second Minimum:\", second_min)\n",
    "print(\"Maximum:\", maximum)\n",
    "print(\"Second Maximum:\", second_max)\n",
    "\n"
   ]
  },
  {
   "cell_type": "code",
   "execution_count": 4,
   "id": "70a44f2b-cc1b-4be3-aec2-198b06866f91",
   "metadata": {},
   "outputs": [
    {
     "name": "stdout",
     "output_type": "stream",
     "text": [
      "1\n"
     ]
    }
   ],
   "source": [
    "l = [2,4,5,6,7,1]\n",
    "m = l[0]\n",
    "\n",
    "for i in l:\n",
    "    if m>i:\n",
    "        m = i\n",
    "print(m);\n",
    "# ascending without sort --> swapping\n",
    "# t[0] , t[1], t[-1],t[-2]\n",
    "k = [4,5,1,3,2]\n"
   ]
  }
 ],
 "metadata": {
  "kernelspec": {
   "display_name": "Python [conda env:base] *",
   "language": "python",
   "name": "conda-base-py"
  },
  "language_info": {
   "codemirror_mode": {
    "name": "ipython",
    "version": 3
   },
   "file_extension": ".py",
   "mimetype": "text/x-python",
   "name": "python",
   "nbconvert_exporter": "python",
   "pygments_lexer": "ipython3",
   "version": "3.13.5"
  }
 },
 "nbformat": 4,
 "nbformat_minor": 5
}
