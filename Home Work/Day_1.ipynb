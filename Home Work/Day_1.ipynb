{
 "cells": [
  {
   "cell_type": "code",
   "execution_count": 1,
   "id": "1fdf0dc2-374f-4390-950f-90d8e137c9ac",
   "metadata": {},
   "outputs": [
    {
     "ename": "SyntaxError",
     "evalue": "cannot assign to expression here. Maybe you meant '==' instead of '='? (2904670931.py, line 2)",
     "output_type": "error",
     "traceback": [
      "\u001b[1;36m  Cell \u001b[1;32mIn[1], line 2\u001b[1;36m\u001b[0m\n\u001b[1;33m    var-char = 4\u001b[0m\n\u001b[1;37m    ^\u001b[0m\n\u001b[1;31mSyntaxError\u001b[0m\u001b[1;31m:\u001b[0m cannot assign to expression here. Maybe you meant '==' instead of '='?\n"
     ]
    }
   ],
   "source": [
    "# Variables Declaration ,Illegal var\n",
    "var-char = 4\n",
    "print(var-char)"
   ]
  },
  {
   "cell_type": "code",
   "execution_count": 2,
   "id": "7421e8e3-4eea-4a40-b7d4-338c762d76ad",
   "metadata": {},
   "outputs": [
    {
     "ename": "SyntaxError",
     "evalue": "invalid decimal literal (2208294368.py, line 2)",
     "output_type": "error",
     "traceback": [
      "\u001b[1;36m  Cell \u001b[1;32mIn[2], line 2\u001b[1;36m\u001b[0m\n\u001b[1;33m    2ni8 = 10\u001b[0m\n\u001b[1;37m    ^\u001b[0m\n\u001b[1;31mSyntaxError\u001b[0m\u001b[1;31m:\u001b[0m invalid decimal literal\n"
     ]
    }
   ],
   "source": [
    "# Can't start with digit\n",
    "2ni8 = 10 \n",
    "print(2ni8)"
   ]
  },
  {
   "cell_type": "code",
   "execution_count": 3,
   "id": "03f33c22-09f5-4c02-9e05-fff2cc5f8c0a",
   "metadata": {},
   "outputs": [
    {
     "ename": "SyntaxError",
     "evalue": "invalid syntax (1847917259.py, line 2)",
     "output_type": "error",
     "traceback": [
      "\u001b[1;36m  Cell \u001b[1;32mIn[3], line 2\u001b[1;36m\u001b[0m\n\u001b[1;33m    and = 8\u001b[0m\n\u001b[1;37m    ^\u001b[0m\n\u001b[1;31mSyntaxError\u001b[0m\u001b[1;31m:\u001b[0m invalid syntax\n"
     ]
    }
   ],
   "source": [
    "# Reserved word not allowed --> Keywords\n",
    "and = 8\n",
    "print(and)"
   ]
  },
  {
   "cell_type": "code",
   "execution_count": 4,
   "id": "c7698e49-2376-4112-a373-89d2be3976c0",
   "metadata": {},
   "outputs": [
    {
     "ename": "SyntaxError",
     "evalue": "invalid syntax (2116635544.py, line 2)",
     "output_type": "error",
     "traceback": [
      "\u001b[1;36m  Cell \u001b[1;32mIn[4], line 2\u001b[1;36m\u001b[0m\n\u001b[1;33m    Persons age = 23\u001b[0m\n\u001b[1;37m            ^\u001b[0m\n\u001b[1;31mSyntaxError\u001b[0m\u001b[1;31m:\u001b[0m invalid syntax\n"
     ]
    }
   ],
   "source": [
    "# Space not Allowed\n",
    "Persons age = 23\n",
    "print(Persons age)"
   ]
  },
  {
   "cell_type": "code",
   "execution_count": 5,
   "id": "a7740423-722c-4df7-b0dd-77788806fe94",
   "metadata": {},
   "outputs": [
    {
     "ename": "SyntaxError",
     "evalue": "invalid syntax (1118646649.py, line 2)",
     "output_type": "error",
     "traceback": [
      "\u001b[1;36m  Cell \u001b[1;32mIn[5], line 2\u001b[1;36m\u001b[0m\n\u001b[1;33m    $money = 384839\u001b[0m\n\u001b[1;37m    ^\u001b[0m\n\u001b[1;31mSyntaxError\u001b[0m\u001b[1;31m:\u001b[0m invalid syntax\n"
     ]
    }
   ],
   "source": [
    "#  special Chars not allowed\n",
    "$money = 384839\n",
    "print($money)"
   ]
  },
  {
   "cell_type": "code",
   "execution_count": 7,
   "id": "dccdc59b-8054-4cf8-a60c-72a18bf9671c",
   "metadata": {},
   "outputs": [
    {
     "name": "stdout",
     "output_type": "stream",
     "text": [
      "5\n"
     ]
    }
   ],
   "source": [
    "# Legal Variables\n",
    "_myvar = 5\n",
    "print(_myvar)"
   ]
  },
  {
   "cell_type": "code",
   "execution_count": 9,
   "id": "966d56bf-924e-45f4-aaad-2cea956c7c29",
   "metadata": {},
   "outputs": [
    {
     "name": "stdout",
     "output_type": "stream",
     "text": [
      "23\n"
     ]
    }
   ],
   "source": [
    "# Inbetween underscore\n",
    "persons_age = 23\n",
    "print(persons_age)"
   ]
  },
  {
   "cell_type": "code",
   "execution_count": 10,
   "id": "93aa6b9b-af6c-4c3c-b253-e80e4e04cdfc",
   "metadata": {},
   "outputs": [
    {
     "name": "stdout",
     "output_type": "stream",
     "text": [
      "3\n"
     ]
    }
   ],
   "source": [
    "# Alphanumeric\n",
    "num1 = 3\n",
    "print(num1)"
   ]
  },
  {
   "cell_type": "code",
   "execution_count": 14,
   "id": "ba516aaf-4034-47ca-8019-ce9adb86a562",
   "metadata": {},
   "outputs": [
    {
     "name": "stdout",
     "output_type": "stream",
     "text": [
      "Jehap\n"
     ]
    }
   ],
   "source": [
    "# Alpha only\n",
    "name = \"Jehap\"\n",
    "print(name)"
   ]
  },
  {
   "cell_type": "code",
   "execution_count": 15,
   "id": "cda74efe-6a22-4f48-9341-5f735719020e",
   "metadata": {},
   "outputs": [
    {
     "name": "stdout",
     "output_type": "stream",
     "text": [
      "45\n"
     ]
    }
   ],
   "source": [
    "# Python is case sensitive\n",
    "AGE = 45\n",
    "print(AGE)\n"
   ]
  },
  {
   "cell_type": "code",
   "execution_count": null,
   "id": "fd2c2954-814d-4bec-a1dc-d488b6fd78f5",
   "metadata": {},
   "outputs": [],
   "source": []
  }
 ],
 "metadata": {
  "kernelspec": {
   "display_name": "Python [conda env:base] *",
   "language": "python",
   "name": "conda-base-py"
  },
  "language_info": {
   "codemirror_mode": {
    "name": "ipython",
    "version": 3
   },
   "file_extension": ".py",
   "mimetype": "text/x-python",
   "name": "python",
   "nbconvert_exporter": "python",
   "pygments_lexer": "ipython3",
   "version": "3.13.5"
  }
 },
 "nbformat": 4,
 "nbformat_minor": 5
}
