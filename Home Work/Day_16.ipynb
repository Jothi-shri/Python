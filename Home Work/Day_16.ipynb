{
 "cells": [
  {
   "cell_type": "code",
   "execution_count": 6,
   "id": "d5d8d22c-f5d5-4970-b6d4-5eac7fea8801",
   "metadata": {},
   "outputs": [
    {
     "name": "stdin",
     "output_type": "stream",
     "text": [
      "User1, enter stone/paper/scissor:  paper\n",
      "User2, enter stone/paper/scissor:  scissor\n"
     ]
    },
    {
     "name": "stdout",
     "output_type": "stream",
     "text": [
      "User2 wins!\n"
     ]
    }
   ],
   "source": [
    "def game(u1, u2):\n",
    "    rules = {\"stone\": \"scissor\", \"scissor\": \"paper\", \"paper\": \"stone\"}\n",
    "    if u1 == u2:\n",
    "        return \"It's a tie!\"\n",
    "    elif rules.get(u1) == u2:\n",
    "        return \"User1 wins!\"\n",
    "    elif rules.get(u2) == u1:\n",
    "        return \"User2 wins!\"\n",
    "    else:\n",
    "        return \"Invalid input!\"\n",
    "\n",
    "u1 = input(\"User1, enter stone/paper/scissor: \")\n",
    "u2 = input(\"User2, enter stone/paper/scissor: \")\n",
    "\n",
    "print(game(u1, u2))\n",
    "\n",
    "\n"
   ]
  },
  {
   "cell_type": "code",
   "execution_count": null,
   "id": "3f09e933-8087-47a2-84af-37f7277ad24b",
   "metadata": {},
   "outputs": [],
   "source": []
  }
 ],
 "metadata": {
  "kernelspec": {
   "display_name": "Python [conda env:base] *",
   "language": "python",
   "name": "conda-base-py"
  },
  "language_info": {
   "codemirror_mode": {
    "name": "ipython",
    "version": 3
   },
   "file_extension": ".py",
   "mimetype": "text/x-python",
   "name": "python",
   "nbconvert_exporter": "python",
   "pygments_lexer": "ipython3",
   "version": "3.13.5"
  }
 },
 "nbformat": 4,
 "nbformat_minor": 5
}
