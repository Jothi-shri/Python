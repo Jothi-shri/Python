{
 "cells": [
  {
   "cell_type": "code",
   "execution_count": 2,
   "id": "a58aa622-284d-4818-998f-41a5be3a2f54",
   "metadata": {},
   "outputs": [
    {
     "name": "stdout",
     "output_type": "stream",
     "text": [
      "<class 'str'>\n"
     ]
    }
   ],
   "source": [
    "# String\n",
    "char = \"kfido248398@\"\n",
    "# type --> shows which dataType \n",
    "print(type(char))"
   ]
  },
  {
   "cell_type": "code",
   "execution_count": 10,
   "id": "43f10c25-bf33-4e0d-ae56-cf5fffbd9c76",
   "metadata": {},
   "outputs": [
    {
     "name": "stdout",
     "output_type": "stream",
     "text": [
      "(3+5j)\n",
      "(3+5j)\n",
      "3.0\n",
      "5.0\n",
      "3\n"
     ]
    },
    {
     "ename": "TypeError",
     "evalue": "float() argument must be a string or a real number, not 'complex'",
     "output_type": "error",
     "traceback": [
      "\u001b[1;31m---------------------------------------------------------------------------\u001b[0m",
      "\u001b[1;31mTypeError\u001b[0m                                 Traceback (most recent call last)",
      "Cell \u001b[1;32mIn[10], line 13\u001b[0m\n\u001b[0;32m     11\u001b[0m \u001b[38;5;66;03m# Complex values can't be converted into numbers\u001b[39;00m\n\u001b[0;32m     12\u001b[0m \u001b[38;5;28mprint\u001b[39m(\u001b[38;5;28mint\u001b[39m(num1\u001b[38;5;241m.\u001b[39mreal))\n\u001b[1;32m---> 13\u001b[0m \u001b[38;5;28mprint\u001b[39m(\u001b[38;5;28mfloat\u001b[39m(num1))\n",
      "\u001b[1;31mTypeError\u001b[0m: float() argument must be a string or a real number, not 'complex'"
     ]
    }
   ],
   "source": [
    "# Complex --> Imaginary \n",
    "num1 = 3+5j   # 3 is real, 5j is imaginary part\n",
    "print(num1)\n",
    "\n",
    "# Casting  --> Convert one DataType into another\n",
    "print(str(num1))\n",
    "# Use .real and .imag to get numbers\n",
    "print(num1.real)\n",
    "print(num1.imag)\n",
    "\n",
    "# Complex values can't be converted into numbers\n",
    "print(int(num1.real))\n",
    "print(float(num1))\n"
   ]
  },
  {
   "cell_type": "code",
   "execution_count": 16,
   "id": "1aa2ce1a-0f97-49fe-ac03-d75e4ff60b17",
   "metadata": {},
   "outputs": [
    {
     "name": "stdin",
     "output_type": "stream",
     "text": [
      "Enter your age Hi\n"
     ]
    },
    {
     "name": "stdout",
     "output_type": "stream",
     "text": [
      "<class 'str'>\n",
      "Hi\n"
     ]
    },
    {
     "name": "stdin",
     "output_type": "stream",
     "text": [
      "Enter the age 78\n"
     ]
    },
    {
     "name": "stdout",
     "output_type": "stream",
     "text": [
      "<class 'float'>\n",
      "78.0\n"
     ]
    }
   ],
   "source": [
    "# Getting i/p from the user\n",
    "My_age = input(\"Enter your age\")\n",
    "print(type(My_age))\n",
    "print(My_age)\n",
    "# Default \"input\" is \"String\" DataType\n",
    "my_age = float(input(\"Enter the age\"))\n",
    "print(type(my_age))\n",
    "print(my_age)"
   ]
  },
  {
   "cell_type": "code",
   "execution_count": null,
   "id": "2cbfcbc9-ac7f-4dc4-a48f-c82609623a27",
   "metadata": {},
   "outputs": [],
   "source": []
  }
 ],
 "metadata": {
  "kernelspec": {
   "display_name": "Python [conda env:base] *",
   "language": "python",
   "name": "conda-base-py"
  },
  "language_info": {
   "codemirror_mode": {
    "name": "ipython",
    "version": 3
   },
   "file_extension": ".py",
   "mimetype": "text/x-python",
   "name": "python",
   "nbconvert_exporter": "python",
   "pygments_lexer": "ipython3",
   "version": "3.13.5"
  }
 },
 "nbformat": 4,
 "nbformat_minor": 5
}
