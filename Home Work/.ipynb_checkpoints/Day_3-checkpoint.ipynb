{
 "cells": [
  {
   "cell_type": "code",
   "execution_count": 3,
   "id": "5a5a52e4-5109-48b7-8519-ac2846f2dc8e",
   "metadata": {},
   "outputs": [
    {
     "name": "stdout",
     "output_type": "stream",
     "text": [
      "All\n",
      "All\n",
      "WELCOME ALL!\n",
      "welcome all!\n",
      "12\n"
     ]
    }
   ],
   "source": [
    "char = \"Welcome All!\"\n",
    "# Index val[0,1,2,3...] | [.....-2,-1]\n",
    "# String Slicing\n",
    "print(char[8:11])\n",
    "print(char[-4:-1])\n",
    "print(char.upper());\n",
    "print(char.lower());\n",
    "# Num of characters in a string\n",
    "print(len(char))"
   ]
  },
  {
   "cell_type": "code",
   "execution_count": null,
   "id": "783909cb-d2d3-4e94-9dd0-ca985430982d",
   "metadata": {},
   "outputs": [],
   "source": []
  }
 ],
 "metadata": {
  "kernelspec": {
   "display_name": "Python [conda env:base] *",
   "language": "python",
   "name": "conda-base-py"
  },
  "language_info": {
   "codemirror_mode": {
    "name": "ipython",
    "version": 3
   },
   "file_extension": ".py",
   "mimetype": "text/x-python",
   "name": "python",
   "nbconvert_exporter": "python",
   "pygments_lexer": "ipython3",
   "version": "3.13.5"
  }
 },
 "nbformat": 4,
 "nbformat_minor": 5
}
