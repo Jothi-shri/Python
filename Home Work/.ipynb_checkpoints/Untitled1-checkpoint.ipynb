{
 "cells": [
  {
   "cell_type": "code",
   "execution_count": 1,
   "id": "efc0f04a-f6e2-4b17-acc0-d0b282afdc14",
   "metadata": {},
   "outputs": [
    {
     "name": "stdout",
     "output_type": "stream",
     "text": [
      "*****\n",
      "*****\n",
      "*****\n",
      "*****\n",
      "*****\n"
     ]
    }
   ],
   "source": [
    "size = 5\n",
    "for i in range(size):\n",
    "   for j in range(size):\n",
    "       print(\"*\", end=\"\")\n",
    "   print()"
   ]
  },
  {
   "cell_type": "code",
   "execution_count": 1,
   "id": "f65b9f0b-9a2a-4696-94d3-3d2eb7d2ddaa",
   "metadata": {},
   "outputs": [
    {
     "name": "stdout",
     "output_type": "stream",
     "text": [
      "Given string       : hello world\n",
      "Capitalized string : Hello world\n"
     ]
    }
   ],
   "source": [
    "x = \"hello world\"\n",
    "result = x.capitalize()\n",
    "print(f\"Given string       : {x}\")\n",
    "print(f\"Capitalized string : {result}\")"
   ]
  },
  {
   "cell_type": "code",
   "execution_count": 1,
   "id": "cc347cc9-9666-466a-8a80-1896392435cb",
   "metadata": {},
   "outputs": [
    {
     "name": "stdout",
     "output_type": "stream",
     "text": [
      "5\n"
     ]
    }
   ],
   "source": [
    "def nthTermOfAP(a1, a2, n):\n",
    "    nthTerm = a1\n",
    "    d = a2 - a1\n",
    "    for i in range(1, n):\n",
    "        nthTerm += d\n",
    "    return nthTerm\n",
    "\n",
    "\n",
    "a1 = 2\n",
    "a2 = 3\n",
    "n = 4\n",
    "print(nthTermOfAP(a1, a2, n))"
   ]
  }
 ],
 "metadata": {
  "kernelspec": {
   "display_name": "Python [conda env:base] *",
   "language": "python",
   "name": "conda-base-py"
  },
  "language_info": {
   "codemirror_mode": {
    "name": "ipython",
    "version": 3
   },
   "file_extension": ".py",
   "mimetype": "text/x-python",
   "name": "python",
   "nbconvert_exporter": "python",
   "pygments_lexer": "ipython3",
   "version": "3.13.5"
  }
 },
 "nbformat": 4,
 "nbformat_minor": 5
}
