{
 "cells": [
  {
   "cell_type": "code",
   "execution_count": 2,
   "id": "5a140513-845f-447d-bfd9-bbf2a7b5e85c",
   "metadata": {},
   "outputs": [
    {
     "name": "stdout",
     "output_type": "stream",
     "text": [
      "True\n"
     ]
    }
   ],
   "source": [
    "# Anagram\n",
    "str1 = \"listen\"\n",
    "str2 = \"silent\"\n",
    "\n",
    "for ch in str1:\n",
    "    j = 0\n",
    "    for c in str2:\n",
    "        if ch == c:  \n",
    "            # remove this char manually by slicing\n",
    "            str2 = str2[:j] + str2[j+1:]\n",
    "            break   # stop after removing once\n",
    "        j += 1\n",
    "\n",
    "if str2 == \"\":\n",
    "    print(\"True\")\n",
    "else:\n",
    "    print(\"False\")\n"
   ]
  },
  {
   "cell_type": "code",
   "execution_count": 8,
   "id": "f4e59b3a-4796-4e46-ae74-d58e03ecb9d4",
   "metadata": {},
   "outputs": [
    {
     "name": "stdout",
     "output_type": "stream",
     "text": [
      "True\n"
     ]
    }
   ],
   "source": [
    "# Palindrome\n",
    "s = \"madam\";\n",
    "if s == s[::-1]:\n",
    "    print(\"True\")\n",
    "else:\n",
    "    print(\"False\")"
   ]
  },
  {
   "cell_type": "code",
   "execution_count": 22,
   "id": "f4d8075e-9db8-4414-9a4f-0fd388e63364",
   "metadata": {},
   "outputs": [
    {
     "name": "stdout",
     "output_type": "stream",
     "text": [
      "Minimum: 7\n",
      "Maximum: 89\n"
     ]
    }
   ],
   "source": [
    "# max & min\n",
    "numbers = [12, 45, 7, 89, 23]\n",
    "min_num = numbers[0]  \n",
    "max_num = numbers[0]  \n",
    "for n in numbers:      \n",
    "    if n < min_num:\n",
    "        min_num = n\n",
    "    if n > max_num:\n",
    "        max_num = n\n",
    "print(\"Minimum:\", min_num)\n",
    "print(\"Maximum:\", max_num)\n"
   ]
  },
  {
   "cell_type": "code",
   "execution_count": 9,
   "id": "9873cd79-587c-4fb8-832c-8bcedef4eaeb",
   "metadata": {},
   "outputs": [
    {
     "name": "stdout",
     "output_type": "stream",
     "text": [
      "Ascending: [5, 12, 29, 34, 66]\n",
      "Descending: [66, 34, 29, 12, 5]\n"
     ]
    }
   ],
   "source": [
    "# asc & dec\n",
    "data = [34, 12, 5, 66, 29]\n",
    "\n",
    "# find length manually\n",
    "count = 0\n",
    "for l in data:\n",
    "    count += 1\n",
    "\n",
    "# Ascending + Descending together\n",
    "i = 0\n",
    "while i < count:\n",
    "    j = i + 1\n",
    "    while j < count:\n",
    "        if data[i] > data[j]:\n",
    "            data[i], data[j] = data[j], data[i]   # ascending swap\n",
    "        j += 1\n",
    "    i += 1\n",
    "print(\"Ascending:\", data)\n",
    "print(\"Descending:\", data[::-1])   # reverse print only\n",
    "\n",
    "# print([0])\n",
    "# print([1])\n",
    "# print([-1])\n",
    "# print([-2])"
   ]
  },
  {
   "cell_type": "code",
   "execution_count": 12,
   "id": "e9e33e93-edbb-4663-a8ff-3b26db1fccd4",
   "metadata": {},
   "outputs": [
    {
     "name": "stdout",
     "output_type": "stream",
     "text": [
      "[1, 2, 3, 4, 5]\n"
     ]
    }
   ],
   "source": [
    "# removing duplicates\n",
    "items = [1, 2, 2, 3, 4, 4, 5]\n",
    "unique = []\n",
    "\n",
    "for dup in items:\n",
    "    for u in unique:\n",
    "        if u == dup:\n",
    "            break    # element found, exit inner loop\n",
    "    else:\n",
    "        # inner loop did NOT break → element not in unique\n",
    "        unique = unique + [dup]  # manually add\n",
    "\n",
    "print(unique)"
   ]
  },
  {
   "cell_type": "code",
   "execution_count": 29,
   "id": "4b410369-29e1-4edd-962c-15c1c745fa6c",
   "metadata": {},
   "outputs": [
    {
     "name": "stdout",
     "output_type": "stream",
     "text": [
      "[1, 2, 3, 4, 5]\n"
     ]
    }
   ],
   "source": [
    "items = [1, 2, 2, 3, 4, 4, 5]\n",
    "l = list(set(items))\n",
    "print(l);"
   ]
  },
  {
   "cell_type": "code",
   "execution_count": 16,
   "id": "dc498538-0b16-4280-b378-4415bd303d70",
   "metadata": {},
   "outputs": [
    {
     "name": "stdin",
     "output_type": "stream",
     "text": [
      " 17\n"
     ]
    },
    {
     "name": "stdout",
     "output_type": "stream",
     "text": [
      "Odd\n"
     ]
    }
   ],
   "source": [
    "# odd or even\n",
    "number = int(input(\"\"));\n",
    "if(number%2 == 0):\n",
    "    print(\"Even\");\n",
    "else:\n",
    "    print(\"Odd\");"
   ]
  },
  {
   "cell_type": "code",
   "execution_count": 3,
   "id": "5c2ca7ba-5e44-4ac4-8409-c4225a6a9d5f",
   "metadata": {},
   "outputs": [
    {
     "name": "stdout",
     "output_type": "stream",
     "text": [
      "3\n"
     ]
    }
   ],
   "source": [
    "# count of vowels\n",
    "text = \"Hello World\"\n",
    "vowels = \"aeiouAEIOU\"\n",
    "vowel_count = 0  # total vowels\n",
    "\n",
    "for char in text:\n",
    "    # Check if char is a vowel\n",
    "    if char in vowels:\n",
    "        vowel_count += 1  # increment total count\n",
    "\n",
    "print(vowel_count);\n",
    "\n"
   ]
  },
  {
   "cell_type": "code",
   "execution_count": 5,
   "id": "396ed6c6-aaf2-4fd9-b988-00e5f4792974",
   "metadata": {},
   "outputs": [
    {
     "name": "stdout",
     "output_type": "stream",
     "text": [
      "120\n"
     ]
    }
   ],
   "source": [
    "# Factorial\n",
    "# Input number\n",
    "number = 5  # you can change this value\n",
    "\n",
    "# Initialize factorial\n",
    "factorial = 1\n",
    "\n",
    "# Loop from 1 to number\n",
    "i = 1\n",
    "while i <= number:\n",
    "    factorial  *= i\n",
    "    i += 1\n",
    "\n",
    "# Print the result\n",
    "print(factorial);\n"
   ]
  },
  {
   "cell_type": "code",
   "execution_count": 2,
   "id": "b5fe2a07-ad73-462d-a9e2-949edaf8c6bc",
   "metadata": {},
   "outputs": [
    {
     "name": "stdin",
     "output_type": "stream",
     "text": [
      "Enter a number: 9\n"
     ]
    },
    {
     "name": "stdout",
     "output_type": "stream",
     "text": [
      "9 is not a prime number\n"
     ]
    }
   ],
   "source": [
    "# prime or not\n",
    "number =int(input(\"Enter a number:\"))\n",
    "if number>1:\n",
    "    for i in range(2,number//2):\n",
    "        if number%i == 0:\n",
    "            print(number,\"is not a prime number\");\n",
    "            break\n",
    "    else:\n",
    "        print(n,\"is a prime number\");"
   ]
  },
  {
   "cell_type": "code",
   "execution_count": 2,
   "id": "30bec3a5-4cbc-4ec0-a76e-c35541a6907a",
   "metadata": {},
   "outputs": [
    {
     "name": "stdout",
     "output_type": "stream",
     "text": [
      "nohtyP\n"
     ]
    }
   ],
   "source": [
    "# reverse a string\n",
    "text = \"Python\";\n",
    "print(text[::-1]);\n"
   ]
  },
  {
   "cell_type": "code",
   "execution_count": 5,
   "id": "1fd49675-16c2-4e17-9f3a-0b454aad4151",
   "metadata": {},
   "outputs": [
    {
     "name": "stdout",
     "output_type": "stream",
     "text": [
      "s\n",
      "i\n",
      "l\n",
      "e\n",
      "n\n",
      "t\n",
      "s\n",
      "i\n",
      "l\n",
      "e\n",
      "n\n",
      "t\n",
      "s\n",
      "i\n",
      "l\n",
      "e\n",
      "n\n",
      "t\n"
     ]
    },
    {
     "ename": "TypeError",
     "evalue": "'<' not supported between instances of 'dict' and 'dict'",
     "output_type": "error",
     "traceback": [
      "\u001b[1;31m---------------------------------------------------------------------------\u001b[0m",
      "\u001b[1;31mTypeError\u001b[0m                                 Traceback (most recent call last)",
      "Cell \u001b[1;32mIn[5], line 24\u001b[0m\n\u001b[0;32m     22\u001b[0m     \u001b[38;5;28;01melse\u001b[39;00m:\n\u001b[0;32m     23\u001b[0m         k[i] \u001b[38;5;241m+\u001b[39m\u001b[38;5;241m=\u001b[39m\u001b[38;5;241m1\u001b[39m\n\u001b[1;32m---> 24\u001b[0m \u001b[38;5;28;01mif\u001b[39;00m count1 \u001b[38;5;241m<\u001b[39m count2:\n\u001b[0;32m     25\u001b[0m     \u001b[38;5;28mprint\u001b[39m(\u001b[38;5;124m\"\u001b[39m\u001b[38;5;124mAnagram\u001b[39m\u001b[38;5;124m\"\u001b[39m);\n\u001b[0;32m     26\u001b[0m \u001b[38;5;28;01melse\u001b[39;00m:\n",
      "\u001b[1;31mTypeError\u001b[0m: '<' not supported between instances of 'dict' and 'dict'"
     ]
    }
   ],
   "source": [
    "k1 = \"silent\"\n",
    "k2 = \"listen\"\n",
    "count1 ={}\n",
    "for i in k1:\n",
    "    print(i)\n",
    "    if i not in k:\n",
    "        k[i]=1\n",
    "    else:\n",
    "        k[i] +=1\n",
    "count1 ={}\n",
    "for i in k1:\n",
    "    print(i)\n",
    "    if i not in k:\n",
    "        k[i]=1\n",
    "    else:\n",
    "        k[i] +=1\n",
    "count2 ={}\n",
    "for i in k1:\n",
    "    print(i)\n",
    "    if i not in k:\n",
    "        k[i]=1\n",
    "    else:\n",
    "        k[i] +=1\n",
    "if count1 < count2:\n",
    "    print(\"Anagram\");\n",
    "else:\n",
    "    print(\"not\");\n",
    "\n",
    "\n",
    "# sorted"
   ]
  },
  {
   "cell_type": "code",
   "execution_count": null,
   "id": "c279f545-58d5-4a24-b3a9-8c60c418010c",
   "metadata": {},
   "outputs": [],
   "source": []
  }
 ],
 "metadata": {
  "kernelspec": {
   "display_name": "Python [conda env:base] *",
   "language": "python",
   "name": "conda-base-py"
  },
  "language_info": {
   "codemirror_mode": {
    "name": "ipython",
    "version": 3
   },
   "file_extension": ".py",
   "mimetype": "text/x-python",
   "name": "python",
   "nbconvert_exporter": "python",
   "pygments_lexer": "ipython3",
   "version": "3.13.5"
  }
 },
 "nbformat": 4,
 "nbformat_minor": 5
}
