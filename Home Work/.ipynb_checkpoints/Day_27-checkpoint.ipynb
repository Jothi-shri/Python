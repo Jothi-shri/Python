{
 "cells": [
  {
   "cell_type": "code",
   "execution_count": 9,
   "id": "f6fac6ca-31e6-40ed-aba5-65bc6c220b8f",
   "metadata": {},
   "outputs": [
    {
     "name": "stdout",
     "output_type": "stream",
     "text": [
      "* * * * * \n",
      " * * * * \n",
      "  * * * \n",
      "   * * \n",
      "    * \n"
     ]
    }
   ],
   "source": [
    "rows = 5\n",
    "\n",
    "for i in range(rows, 0,-1):\n",
    "    print(\" \" * (rows - i) + \"* \" * i)\n"
   ]
  },
  {
   "cell_type": "code",
   "execution_count": 1,
   "id": "755a6618-e7c5-4afa-b345-c3ef9ba88c94",
   "metadata": {},
   "outputs": [],
   "source": [
    "# rows = 5\n",
    "\n",
    "# for i in range(rows, 0, -1):\n",
    "#     # Print leading spaces\n",
    "#     print(\" \" * (rows - i), end=\"\")\n",
    "\n",
    "#     # Print stars with hollow inside\n",
    "#     for j in range(1, 2 * i):\n",
    "#         if j == 1 or j == 2 * i - 1 or i == rows:\n",
    "#             print(\"*\", end=\"\")\n",
    "#         else:\n",
    "#             print(\" \", end=\"\")\n",
    "#     print()\n"
   ]
  }
 ],
 "metadata": {
  "kernelspec": {
   "display_name": "Python [conda env:base] *",
   "language": "python",
   "name": "conda-base-py"
  },
  "language_info": {
   "codemirror_mode": {
    "name": "ipython",
    "version": 3
   },
   "file_extension": ".py",
   "mimetype": "text/x-python",
   "name": "python",
   "nbconvert_exporter": "python",
   "pygments_lexer": "ipython3",
   "version": "3.13.5"
  }
 },
 "nbformat": 4,
 "nbformat_minor": 5
}
