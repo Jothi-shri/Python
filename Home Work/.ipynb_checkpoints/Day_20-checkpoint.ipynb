{
 "cells": [
  {
   "cell_type": "code",
   "execution_count": 1,
   "id": "db88ed83-1b1a-4f0a-9e41-b78760cabb4d",
   "metadata": {},
   "outputs": [
    {
     "name": "stdout",
     "output_type": "stream",
     "text": [
      "Private\n",
      "Protected\n",
      "Public\n",
      "Protected Public\n"
     ]
    }
   ],
   "source": [
    "class Parent:\n",
    "    def __init__(self):\n",
    "        self.__private = \"Private\"\n",
    "        self._protected = \"Protected\"\n",
    "        self.public = \"Public\"\n",
    "\n",
    "    def showPrivate(self): \n",
    "        print(self.__private)\n",
    "    def showProtected(self): \n",
    "        print(self._protected)\n",
    "    def showPublic(self): \n",
    "        print(self.public)\n",
    "\n",
    "class Child(Parent):\n",
    "    def access(self):\n",
    "        print(self._protected, self.public)\n",
    "\n",
    "obj = Child()\n",
    "obj.showPrivate()\n",
    "obj.showProtected()\n",
    "obj.showPublic()\n",
    "obj.access()\n"
   ]
  }
 ],
 "metadata": {
  "kernelspec": {
   "display_name": "Python [conda env:base] *",
   "language": "python",
   "name": "conda-base-py"
  },
  "language_info": {
   "codemirror_mode": {
    "name": "ipython",
    "version": 3
   },
   "file_extension": ".py",
   "mimetype": "text/x-python",
   "name": "python",
   "nbconvert_exporter": "python",
   "pygments_lexer": "ipython3",
   "version": "3.13.5"
  }
 },
 "nbformat": 4,
 "nbformat_minor": 5
}
