{
 "cells": [
  {
   "cell_type": "code",
   "execution_count": 6,
   "id": "5a5a52e4-5109-48b7-8519-ac2846f2dc8e",
   "metadata": {},
   "outputs": [
    {
     "name": "stdout",
     "output_type": "stream",
     "text": [
      "All\n",
      "All\n",
      "12\n"
     ]
    }
   ],
   "source": [
    "char = \"Welcome All!\"\n",
    "# Index val[0,1,2,3...] | [.....-2,-1]\n",
    "# String Slicing\n",
    "print(char[8:11])\n",
    "print(char[-4:-1])\n",
    "\n",
    "# Num of characters in a string\n",
    "print(len(char))"
   ]
  },
  {
   "cell_type": "code",
   "execution_count": 11,
   "id": "3408ffdd-9e3d-4f8f-b950-b19a5e9173e8",
   "metadata": {},
   "outputs": [
    {
     "name": "stdout",
     "output_type": "stream",
     "text": [
      "WELCOME ALL!\n",
      "welcome all!\n"
     ]
    }
   ],
   "source": [
    "# String modify methods\n",
    "print(char.upper());\n",
    "print(char.lower());"
   ]
  },
  {
   "cell_type": "code",
   "execution_count": null,
   "id": "d75d50cc-bb44-4cc5-8e45-ee49dfd1b7a0",
   "metadata": {},
   "outputs": [],
   "source": []
  }
 ],
 "metadata": {
  "kernelspec": {
   "display_name": "Python [conda env:base] *",
   "language": "python",
   "name": "conda-base-py"
  },
  "language_info": {
   "codemirror_mode": {
    "name": "ipython",
    "version": 3
   },
   "file_extension": ".py",
   "mimetype": "text/x-python",
   "name": "python",
   "nbconvert_exporter": "python",
   "pygments_lexer": "ipython3",
   "version": "3.13.5"
  }
 },
 "nbformat": 4,
 "nbformat_minor": 5
}
