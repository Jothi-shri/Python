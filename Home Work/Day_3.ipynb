{
 "cells": [
  {
   "cell_type": "code",
   "execution_count": 6,
   "id": "5a5a52e4-5109-48b7-8519-ac2846f2dc8e",
   "metadata": {},
   "outputs": [
    {
     "name": "stdout",
     "output_type": "stream",
     "text": [
      "All\n",
      "All\n",
      "12\n"
     ]
    }
   ],
   "source": [
    "char = \"Welcome All!\"\n",
    "# Index val[0,1,2,3...] | [.....-2,-1]\n",
    "# String Slicing\n",
    "print(char[8:11])\n",
    "print(char[-4:-1])\n",
    "\n",
    "# Num of characters in a string\n",
    "print(len(char))"
   ]
  },
  {
   "cell_type": "code",
   "execution_count": 7,
   "id": "3408ffdd-9e3d-4f8f-b950-b19a5e9173e8",
   "metadata": {},
   "outputs": [
    {
     "ename": "NameError",
     "evalue": "name 'char' is not defined",
     "output_type": "error",
     "traceback": [
      "\u001b[1;31m---------------------------------------------------------------------------\u001b[0m",
      "\u001b[1;31mNameError\u001b[0m                                 Traceback (most recent call last)",
      "Cell \u001b[1;32mIn[7], line 2\u001b[0m\n\u001b[0;32m      1\u001b[0m \u001b[38;5;66;03m# String modify methods\u001b[39;00m\n\u001b[1;32m----> 2\u001b[0m \u001b[38;5;28mprint\u001b[39m(char\u001b[38;5;241m.\u001b[39mupper());\n\u001b[0;32m      3\u001b[0m \u001b[38;5;28mprint\u001b[39m(char\u001b[38;5;241m.\u001b[39mlower())\n",
      "\u001b[1;31mNameError\u001b[0m: name 'char' is not defined"
     ]
    }
   ],
   "source": [
    "# String modify methods\n",
    "print(char.upper());\n",
    "print(char.lower());"
   ]
  },
  {
   "cell_type": "code",
   "execution_count": null,
   "id": "d75d50cc-bb44-4cc5-8e45-ee49dfd1b7a0",
   "metadata": {},
   "outputs": [],
   "source": [
    "print(char.index(\"A)"
   ]
  },
  {
   "cell_type": "code",
   "execution_count": null,
   "id": "783909cb-d2d3-4e94-9dd0-ca985430982d",
   "metadata": {},
   "outputs": [],
   "source": []
  }
 ],
 "metadata": {
  "kernelspec": {
   "display_name": "Python [conda env:base] *",
   "language": "python",
   "name": "conda-base-py"
  },
  "language_info": {
   "codemirror_mode": {
    "name": "ipython",
    "version": 3
   },
   "file_extension": ".py",
   "mimetype": "text/x-python",
   "name": "python",
   "nbconvert_exporter": "python",
   "pygments_lexer": "ipython3",
   "version": "3.13.5"
  }
 },
 "nbformat": 4,
 "nbformat_minor": 5
}
