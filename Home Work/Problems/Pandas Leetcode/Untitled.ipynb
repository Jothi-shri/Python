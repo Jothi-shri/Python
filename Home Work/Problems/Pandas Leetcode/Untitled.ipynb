{
 "cells": [
  {
   "cell_type": "code",
   "execution_count": 9,
   "id": "a695d31e-8165-4642-8da1-07fdc63df6cb",
   "metadata": {},
   "outputs": [
    {
     "name": "stdout",
     "output_type": "stream",
     "text": [
      "   student_id  age\n",
      "0           1   15\n",
      "1           2   11\n",
      "2           3   11\n"
     ]
    }
   ],
   "source": [
    "# create a DataFrame from a 2D list called student_data\n",
    "# two columns, student_id and age\n",
    "\n",
    "# Function\n",
    "import pandas as pd\n",
    "def creatdataframe(student_data):\n",
    "    df = pd.DataFrame(student_data, columns= [\"student_id\",\"age\"])\n",
    "    return df\n",
    "student_data = [[1,15],\n",
    "                [2,11],\n",
    "                [3,11]]\n",
    "print(creatdataframe(student_data));"
   ]
  },
  {
   "cell_type": "code",
   "execution_count": 10,
   "id": "5df78fab-528b-4f2e-ba52-66e56ee3ae52",
   "metadata": {},
   "outputs": [
    {
     "name": "stdout",
     "output_type": "stream",
     "text": [
      "   student_id  age\n",
      "0           1   15\n",
      "1           2   11\n",
      "2           3   11\n"
     ]
    }
   ],
   "source": [
    "# 2D\n",
    "import pandas as pd\n",
    "\n",
    "student_data = [\n",
    "    [1, 15],\n",
    "    [2, 11],\n",
    "    [3, 11]\n",
    "]\n",
    "\n",
    "df = pd.DataFrame(student_data, columns=[\"student_id\", \"age\"])\n",
    "print(df)\n"
   ]
  },
  {
   "cell_type": "code",
   "execution_count": 11,
   "id": "492566cb-bf76-4295-9da2-3c920157da5c",
   "metadata": {},
   "outputs": [
    {
     "name": "stdout",
     "output_type": "stream",
     "text": [
      "   student_id  age\n",
      "0           1   15\n",
      "1           2   11\n",
      "2           3   11\n"
     ]
    }
   ],
   "source": [
    "#In  Dictionary\n",
    "import pandas as pd\n",
    "\n",
    "student_data = { \"student_id\" : [1,2,3],\n",
    "                \"age\" : [15,11,11]\n",
    "}\n",
    "\n",
    "df = pd.DataFrame(student_data)\n",
    "# df = pd.DataFrame(student_data, columns=[\"student_id\", \"age\"])\n",
    "print(df)"
   ]
  },
  {
   "cell_type": "code",
   "execution_count": 12,
   "id": "d765342c-3f8b-41d6-a0f1-d36732a4a691",
   "metadata": {},
   "outputs": [
    {
     "name": "stdout",
     "output_type": "stream",
     "text": [
      "   student_id  age\n",
      "0           1   15\n",
      "1           2   11\n",
      "2           3   11\n",
      "3           4   20\n"
     ]
    }
   ],
   "source": [
    "# Json\n",
    "import pandas as pd\n",
    "import json\n",
    "\n",
    "# Example JSON-like list of dicts\n",
    "data = [\n",
    "    {\"student_id\": 1, \"age\": 15},\n",
    "    {\"student_id\": 2, \"age\": 11},\n",
    "    {\"student_id\": 3, \"age\": 11},\n",
    "    {\"student_id\": 4, \"age\": 20}\n",
    "]\n",
    "\n",
    "# Convert directly into DataFrame\n",
    "df = pd.DataFrame(data)\n",
    "print(df)\n"
   ]
  },
  {
   "cell_type": "code",
   "execution_count": 22,
   "id": "2129331f-12db-41bf-99af-8450769a31b2",
   "metadata": {},
   "outputs": [
    {
     "name": "stdout",
     "output_type": "stream",
     "text": [
      "(3, 4)\n",
      "(3, 4)\n"
     ]
    }
   ],
   "source": [
    "# number of rows and columns of players\n",
    "# Return the result as an array: [number of rows, number of columns]\n",
    "\n",
    "import pandas as pd\n",
    "def sizecal(players):\n",
    "    df = pd.DataFrame(players)\n",
    "    rows , col = df.shape\n",
    "    return[rows,col]\n",
    "players = {\n",
    "    \"player_id\": [1, 2, 3],\n",
    "    \"name\": [\"Messi\", \"Ronaldo\", \"Neymar\"],\n",
    "    \"age\": [36, 39, 32],\n",
    "    \"position\": [\"Forward\", \"Forward\", \"Forward\"]\n",
    "}\n",
    "print(sizecal(players))\n",
    "\n",
    "# rows & columns --> df.shape\n",
    "\n",
    "# Total number of elements --> df.size\n",
    "# import pandas as pd\n",
    "# def sizecal(players):\n",
    "#     df = pd.DataFrame(players)\n",
    "#     return df.shape\n",
    "# print(sizecal(players))"
   ]
  },
  {
   "cell_type": "code",
   "execution_count": null,
   "id": "cd482dfa-ff4a-446f-a50e-c1259d346dfc",
   "metadata": {},
   "outputs": [],
   "source": [
    "# Display first three rows \n"
   ]
  }
 ],
 "metadata": {
  "kernelspec": {
   "display_name": "Python [conda env:base] *",
   "language": "python",
   "name": "conda-base-py"
  },
  "language_info": {
   "codemirror_mode": {
    "name": "ipython",
    "version": 3
   },
   "file_extension": ".py",
   "mimetype": "text/x-python",
   "name": "python",
   "nbconvert_exporter": "python",
   "pygments_lexer": "ipython3",
   "version": "3.13.5"
  }
 },
 "nbformat": 4,
 "nbformat_minor": 5
}
