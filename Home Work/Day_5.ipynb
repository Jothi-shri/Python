{
 "cells": [
  {
   "cell_type": "code",
   "execution_count": 3,
   "id": "65c08fa9-fd4c-48aa-b2dd-0f7efd604643",
   "metadata": {},
   "outputs": [
    {
     "name": "stdout",
     "output_type": "stream",
     "text": [
      "6\n",
      "24\n"
     ]
    }
   ],
   "source": [
    "# Right Shift\n",
    "a  = 12\n",
    "print(a >> 1)\n",
    "# Left shift\n",
    "print(a << 1)\n"
   ]
  },
  {
   "cell_type": "code",
   "execution_count": null,
   "id": "8d628ff1-a2c9-4e2e-8a16-d3daa8464f84",
   "metadata": {},
   "outputs": [],
   "source": []
  }
 ],
 "metadata": {
  "kernelspec": {
   "display_name": "Python [conda env:base] *",
   "language": "python",
   "name": "conda-base-py"
  },
  "language_info": {
   "codemirror_mode": {
    "name": "ipython",
    "version": 3
   },
   "file_extension": ".py",
   "mimetype": "text/x-python",
   "name": "python",
   "nbconvert_exporter": "python",
   "pygments_lexer": "ipython3",
   "version": "3.13.5"
  }
 },
 "nbformat": 4,
 "nbformat_minor": 5
}
