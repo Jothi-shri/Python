{
 "cells": [
  {
   "cell_type": "code",
   "execution_count": null,
   "id": "b7d250bb-ce13-467c-9f7c-a7edb43889f6",
   "metadata": {},
   "outputs": [],
   "source": [
    "text = \"Hello World\";\n",
    "vowels = \"aeiouAEIOU\";\n",
    "vowel_count = 0;\n",
    "for char1 in vowels:\n",
    "    if char == char1:\n",
    "        vowel_count += 1"
   ]
  }
 ],
 "metadata": {
  "kernelspec": {
   "display_name": "",
   "name": ""
  },
  "language_info": {
   "name": ""
  }
 },
 "nbformat": 4,
 "nbformat_minor": 5
}
