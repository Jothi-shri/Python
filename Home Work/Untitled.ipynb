{
 "cells": [
  {
   "cell_type": "code",
   "execution_count": null,
   "id": "b7d250bb-ce13-467c-9f7c-a7edb43889f6",
   "metadata": {},
   "outputs": [],
   "source": []
  }
 ],
 "metadata": {
  "kernelspec": {
   "display_name": "",
   "name": ""
  },
  "language_info": {
   "name": ""
  }
 },
 "nbformat": 4,
 "nbformat_minor": 5
}
