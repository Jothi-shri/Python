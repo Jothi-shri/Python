{
 "cells": [
  {
   "cell_type": "code",
   "execution_count": 31,
   "id": "1ff89de2-5f8c-4a6f-a524-38439e9f0390",
   "metadata": {},
   "outputs": [
    {
     "name": "stdin",
     "output_type": "stream",
     "text": [
      "Enter your skill Java\n",
      "Enter your experience 2\n",
      "Enter native Chennai\n"
     ]
    },
    {
     "name": "stdout",
     "output_type": "stream",
     "text": [
      "HCL\n"
     ]
    }
   ],
   "source": [
    "skill = input(\"Enter your skill\")\n",
    "exp = int(input(\"Enter your experience\"))\n",
    "native = input(\"Enter native\")\n",
    "if skill == \"Python\" and exp in (1, 2) and native == \"Chennai\":\n",
    "    if exp == 1:\n",
    "         print(\"TCS\");\n",
    "    else:\n",
    "        print(\"Wipro\");\n",
    "        \n",
    "elif skill == \"Java\" and exp in (1, 2) and native in (\"CBE\", \"Chennai\"):\n",
    "    if native == \"CBE\" and exp == 1:\n",
    "        print(\"Cognizant\");\n",
    "    if native == \"CBE\" and exp == 2:\n",
    "        print(\"Accenture\");\n",
    "    if native == \"Chennai\" and exp == 1:\n",
    "        print(\"Trios\");\n",
    "    else:\n",
    "        print(\"HCL\");\n",
    "\n",
    "else:\n",
    "    print(\"No match found\")\n",
    "\n"
   ]
  },
  {
   "cell_type": "code",
   "execution_count": 49,
   "id": "31b2bb80-4efb-4c42-a2f2-c75c358f1d7e",
   "metadata": {},
   "outputs": [
    {
     "name": "stdin",
     "output_type": "stream",
     "text": [
      "Enter your skill:  Java\n",
      "Enter your experience:  1\n",
      "Enter native:  Chennai\n"
     ]
    },
    {
     "name": "stdout",
     "output_type": "stream",
     "text": [
      "Trios\n"
     ]
    }
   ],
   "source": [
    "skill = input(\"Enter your skill: \")\n",
    "exp = int(input(\"Enter your experience: \"))\n",
    "native = input(\"Enter native: \")\n",
    "\n",
    "if skill in (\"Python\", \"Java\") and exp in (1, 2) and native in (\"Chennai\", \"Cbe\"):\n",
    "    if skill == \"Python\" and native == \"Chennai\":\n",
    "        if exp == 1:\n",
    "            print(\"TCS\")\n",
    "        else:\n",
    "            print(\"Wipro\")\n",
    "\n",
    "    elif skill == \"Java\" and native == \"Cbe\":\n",
    "        if exp == 1:\n",
    "            print(\"Cognizant\")\n",
    "        else:\n",
    "            print(\"Accenture\");\n",
    "\n",
    "    elif skill == \"Java\" and native == \"Chennai\":\n",
    "        if exp == 1:\n",
    "            print(\"Trios\");\n",
    "        else:\n",
    "            print(\"HCL\");\n",
    "else:\n",
    "    print(\"No match found\");\n"
   ]
  },
  {
   "cell_type": "code",
   "execution_count": null,
   "id": "1321031e-fc36-499c-947f-d98e120a51fd",
   "metadata": {},
   "outputs": [],
   "source": []
  }
 ],
 "metadata": {
  "kernelspec": {
   "display_name": "Python [conda env:base] *",
   "language": "python",
   "name": "conda-base-py"
  },
  "language_info": {
   "codemirror_mode": {
    "name": "ipython",
    "version": 3
   },
   "file_extension": ".py",
   "mimetype": "text/x-python",
   "name": "python",
   "nbconvert_exporter": "python",
   "pygments_lexer": "ipython3",
   "version": "3.13.5"
  }
 },
 "nbformat": 4,
 "nbformat_minor": 5
}
