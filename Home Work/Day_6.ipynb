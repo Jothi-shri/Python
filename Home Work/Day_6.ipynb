{
 "cells": [
  {
   "cell_type": "code",
   "execution_count": 31,
   "id": "1ff89de2-5f8c-4a6f-a524-38439e9f0390",
   "metadata": {},
   "outputs": [
    {
     "name": "stdin",
     "output_type": "stream",
     "text": [
      "Enter your skill Java\n",
      "Enter your experience 2\n",
      "Enter native Chennai\n"
     ]
    },
    {
     "name": "stdout",
     "output_type": "stream",
     "text": [
      "HCL\n"
     ]
    }
   ],
   "source": [
    "skill = input(\"Enter your skill\")\n",
    "exp = int(input(\"Enter your experience\"))\n",
    "native = input(\"Enter native\")\n",
    "if skill == \"Python\" and exp in (1, 2) and native == \"Chennai\":\n",
    "    if exp == 1:\n",
    "         print(\"TCS\");\n",
    "    else:\n",
    "        print(\"Wipro\");\n",
    "        \n",
    "elif skill == \"Java\" and exp in (1, 2) and native in (\"CBE\", \"Chennai\"):\n",
    "    if native == \"CBE\" and exp == 1:\n",
    "        print(\"Cognizant\");\n",
    "    if native == \"CBE\" and exp == 2:\n",
    "        print(\"Accenture\");\n",
    "    if native == \"Chennai\" and exp == 1:\n",
    "        print(\"Trios\");\n",
    "    else:\n",
    "        print(\"HCL\");\n",
    "\n",
    "else:\n",
    "    print(\"No match found\")\n",
    "\n"
   ]
  },
  {
   "cell_type": "code",
   "execution_count": null,
   "id": "876e0818-56dc-4792-8888-1ed2ffed6377",
   "metadata": {},
   "outputs": [],
   "source": []
  },
  {
   "cell_type": "code",
   "execution_count": 4,
   "id": "c3e65b7f-6330-4da8-92ec-58aab6b36588",
   "metadata": {},
   "outputs": [
    {
     "name": "stdin",
     "output_type": "stream",
     "text": [
      "Enter your skill Python\n",
      "Enter your experience 2\n",
      "Enter native Chennai\n"
     ]
    },
    {
     "name": "stdout",
     "output_type": "stream",
     "text": [
      "Wipro\n"
     ]
    }
   ],
   "source": [
    "skill = input(\"Enter your skill\")\n",
    "exp = int(input(\"Enter your experience\"))\n",
    "native = input(\"Enter native\")\n",
    "if(skill == \"Python\" or skill == \"Java\") and (exp == 1 or exp ==2) and (native == \"CBE\" or native == \"Chennai\"):\n",
    "    if (exp == 1 and skill == \"Python\"):\n",
    "        print(\"TCS\");\n",
    "    if (exp == 2 and skill == \"Python\"):\n",
    "        print(\"Wipro\");\n",
    "    if (skill == \"Java\" and exp == 1):\n",
    "        print(\"Cognizant\");\n",
    "    if (skill == \"Java\" and exp == 2):\n",
    "        print(\"Accenture\");\n",
    "        \n",
    "    "
   ]
  }
 ],
 "metadata": {
  "kernelspec": {
   "display_name": "Python [conda env:base] *",
   "language": "python",
   "name": "conda-base-py"
  },
  "language_info": {
   "codemirror_mode": {
    "name": "ipython",
    "version": 3
   },
   "file_extension": ".py",
   "mimetype": "text/x-python",
   "name": "python",
   "nbconvert_exporter": "python",
   "pygments_lexer": "ipython3",
   "version": "3.13.5"
  }
 },
 "nbformat": 4,
 "nbformat_minor": 5
}
