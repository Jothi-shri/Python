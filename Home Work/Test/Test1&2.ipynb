{
 "cells": [
  {
   "cell_type": "code",
   "execution_count": 2,
   "id": "5a140513-845f-447d-bfd9-bbf2a7b5e85c",
   "metadata": {},
   "outputs": [
    {
     "name": "stdout",
     "output_type": "stream",
     "text": [
      "True\n"
     ]
    }
   ],
   "source": [
    "# Anagram\n",
    "str1 = \"listen\"\n",
    "str2 = \"silent\"\n",
    "\n",
    "for ch in str1:\n",
    "    j = 0\n",
    "    for c in str2:\n",
    "        if ch == c:  \n",
    "            # remove this char manually by slicing\n",
    "            str2 = str2[:j] + str2[j+1:]\n",
    "            break   # stop after removing once\n",
    "        j += 1\n",
    "\n",
    "if str2 == \"\":\n",
    "    print(\"True\")\n",
    "else:\n",
    "    print(\"False\")\n"
   ]
  },
  {
   "cell_type": "code",
   "execution_count": 4,
   "id": "a7a435c2-edda-466c-a957-e86b533cfe91",
   "metadata": {},
   "outputs": [
    {
     "name": "stdout",
     "output_type": "stream",
     "text": [
      "True\n",
      "False\n"
     ]
    }
   ],
   "source": [
    "# Anagram program using function\n",
    "def check_anagram(str1, str2):\n",
    "    for ch in str1:\n",
    "        j = 0\n",
    "        for c in str2:\n",
    "            if ch == c:\n",
    "                # remove this char manually by slicing\n",
    "                str2 = str2[:j] + str2[j+1:]\n",
    "                break\n",
    "            j += 1\n",
    "\n",
    "    if str2 == \"\":\n",
    "        print(\"True\")\n",
    "    else:\n",
    "        print(\"False\")\n",
    "\n",
    "\n",
    "# Example\n",
    "check_anagram(\"listen\", \"silent\")\n",
    "check_anagram(\"hello\", \"world\")\n",
    "\n"
   ]
  },
  {
   "cell_type": "code",
   "execution_count": 8,
   "id": "f4e59b3a-4796-4e46-ae74-d58e03ecb9d4",
   "metadata": {},
   "outputs": [
    {
     "name": "stdout",
     "output_type": "stream",
     "text": [
      "True\n"
     ]
    }
   ],
   "source": [
    "# Palindrome\n",
    "s = \"madam\";\n",
    "if s == s[::-1]:\n",
    "    print(\"True\")\n",
    "else:\n",
    "    print(\"False\")"
   ]
  },
  {
   "cell_type": "code",
   "execution_count": 3,
   "id": "4bfa7c93-e2f5-462f-8e33-adcff610d6fc",
   "metadata": {},
   "outputs": [
    {
     "name": "stdout",
     "output_type": "stream",
     "text": [
      "True\n"
     ]
    }
   ],
   "source": [
    "# Palindrome using func\n",
    "def is_palindrome(s):\n",
    "    if s == s[::-1]:\n",
    "        print(\"True\")\n",
    "    else:\n",
    "        print(\"False\")\n",
    "\n",
    "is_palindrome(\"madam\")\n"
   ]
  },
  {
   "cell_type": "code",
   "execution_count": 22,
   "id": "f4d8075e-9db8-4414-9a4f-0fd388e63364",
   "metadata": {},
   "outputs": [
    {
     "name": "stdout",
     "output_type": "stream",
     "text": [
      "Minimum: 7\n",
      "Maximum: 89\n"
     ]
    }
   ],
   "source": [
    "# max & min\n",
    "numbers = [12, 45, 7, 89, 23]\n",
    "min_num = numbers[0]  \n",
    "max_num = numbers[0]  \n",
    "for n in numbers:      \n",
    "    if n < min_num:\n",
    "        min_num = n\n",
    "    if n > max_num:\n",
    "        max_num = n\n",
    "print(\"Minimum:\", min_num)\n",
    "print(\"Maximum:\", max_num)\n"
   ]
  },
  {
   "cell_type": "code",
   "execution_count": 9,
   "id": "9873cd79-587c-4fb8-832c-8bcedef4eaeb",
   "metadata": {},
   "outputs": [
    {
     "name": "stdout",
     "output_type": "stream",
     "text": [
      "Ascending: [5, 12, 29, 34, 66]\n",
      "Descending: [66, 34, 29, 12, 5]\n"
     ]
    }
   ],
   "source": [
    "# asc & dec\n",
    "data = [34, 12, 5, 66, 29]\n",
    "\n",
    "# find length manually\n",
    "count = 0\n",
    "for l in data:\n",
    "    count += 1\n",
    "\n",
    "# Ascending + Descending together\n",
    "i = 0\n",
    "while i < count:\n",
    "    j = i + 1\n",
    "    while j < count:\n",
    "        if data[i] > data[j]:\n",
    "            data[i], data[j] = data[j], data[i]   # ascending swap\n",
    "        j += 1\n",
    "    i += 1\n",
    "print(\"Ascending:\", data)\n",
    "print(\"Descending:\", data[::-1])   # reverse print only\n",
    "\n",
    "# print([0])\n",
    "# print([1])\n",
    "# print([-1])\n",
    "# print([-2])"
   ]
  },
  {
   "cell_type": "code",
   "execution_count": 12,
   "id": "e9e33e93-edbb-4663-a8ff-3b26db1fccd4",
   "metadata": {},
   "outputs": [
    {
     "name": "stdout",
     "output_type": "stream",
     "text": [
      "[1, 2, 3, 4, 5]\n"
     ]
    }
   ],
   "source": [
    "# removing duplicates\n",
    "items = [1, 2, 2, 3, 4, 4, 5]\n",
    "unique = []\n",
    "\n",
    "for dup in items:\n",
    "    for u in unique:\n",
    "        if u == dup:\n",
    "            break    # element found, exit inner loop\n",
    "    else:\n",
    "        # inner loop did NOT break → element not in unique\n",
    "        unique = unique + [dup]  # manually add\n",
    "\n",
    "print(unique)"
   ]
  },
  {
   "cell_type": "code",
   "execution_count": null,
   "id": "1fd175eb-0192-4c8e-8bc2-b458110bb990",
   "metadata": {},
   "outputs": [],
   "source": []
  },
  {
   "cell_type": "code",
   "execution_count": 29,
   "id": "4b410369-29e1-4edd-962c-15c1c745fa6c",
   "metadata": {},
   "outputs": [
    {
     "name": "stdout",
     "output_type": "stream",
     "text": [
      "[1, 2, 3, 4, 5]\n"
     ]
    }
   ],
   "source": [
    "items = [1, 2, 2, 3, 4, 4, 5]\n",
    "l = list(set(items))\n",
    "print(l);"
   ]
  },
  {
   "cell_type": "code",
   "execution_count": 16,
   "id": "dc498538-0b16-4280-b378-4415bd303d70",
   "metadata": {},
   "outputs": [
    {
     "name": "stdin",
     "output_type": "stream",
     "text": [
      " 17\n"
     ]
    },
    {
     "name": "stdout",
     "output_type": "stream",
     "text": [
      "Odd\n"
     ]
    }
   ],
   "source": [
    "# odd or even\n",
    "number = int(input(\"\"));\n",
    "if(number%2 == 0):\n",
    "    print(\"Even\");\n",
    "else:\n",
    "    print(\"Odd\");"
   ]
  },
  {
   "cell_type": "code",
   "execution_count": 3,
   "id": "5c2ca7ba-5e44-4ac4-8409-c4225a6a9d5f",
   "metadata": {},
   "outputs": [
    {
     "name": "stdout",
     "output_type": "stream",
     "text": [
      "3\n"
     ]
    }
   ],
   "source": [
    "# count of vowels\n",
    "text = \"Hello World\"\n",
    "vowels = \"aeiouAEIOU\"\n",
    "vowel_count = 0  # total vowels\n",
    "\n",
    "for char in text:\n",
    "    # Check if char is a vowel\n",
    "    if char in vowels:\n",
    "        vowel_count += 1  # increment total count\n",
    "\n",
    "print(vowel_count);\n",
    "\n"
   ]
  },
  {
   "cell_type": "code",
   "execution_count": 5,
   "id": "396ed6c6-aaf2-4fd9-b988-00e5f4792974",
   "metadata": {},
   "outputs": [
    {
     "name": "stdout",
     "output_type": "stream",
     "text": [
      "120\n"
     ]
    }
   ],
   "source": [
    "# Factorial\n",
    "# Input number\n",
    "number = 5  # you can change this value\n",
    "\n",
    "# Initialize factorial\n",
    "factorial = 1\n",
    "\n",
    "# Loop from 1 to number\n",
    "i = 1\n",
    "while i <= number:\n",
    "    factorial  *= i\n",
    "    i += 1\n",
    "\n",
    "# Print the result\n",
    "print(factorial);\n"
   ]
  },
  {
   "cell_type": "code",
   "execution_count": 2,
   "id": "b5fe2a07-ad73-462d-a9e2-949edaf8c6bc",
   "metadata": {},
   "outputs": [
    {
     "name": "stdin",
     "output_type": "stream",
     "text": [
      "Enter a number: 9\n"
     ]
    },
    {
     "name": "stdout",
     "output_type": "stream",
     "text": [
      "9 is not a prime number\n"
     ]
    }
   ],
   "source": [
    "# prime or not\n",
    "number =int(input(\"Enter a number:\"))\n",
    "if number>1:\n",
    "    for i in range(2,number//2):\n",
    "        if number%i == 0:\n",
    "            print(number,\"is not a prime number\");\n",
    "            break\n",
    "    else:\n",
    "        print(n,\"is a prime number\");"
   ]
  },
  {
   "cell_type": "code",
   "execution_count": 2,
   "id": "30bec3a5-4cbc-4ec0-a76e-c35541a6907a",
   "metadata": {},
   "outputs": [
    {
     "name": "stdout",
     "output_type": "stream",
     "text": [
      "nohtyP\n"
     ]
    }
   ],
   "source": [
    "# reverse a string\n",
    "text = \"Python\";\n",
    "print(text[::-1]);\n"
   ]
  },
  {
   "cell_type": "code",
   "execution_count": 1,
   "id": "1fd49675-16c2-4e17-9f3a-0b454aad4151",
   "metadata": {},
   "outputs": [
    {
     "name": "stdout",
     "output_type": "stream",
     "text": [
      "s\n"
     ]
    },
    {
     "ename": "NameError",
     "evalue": "name 'k' is not defined",
     "output_type": "error",
     "traceback": [
      "\u001b[1;31m---------------------------------------------------------------------------\u001b[0m",
      "\u001b[1;31mNameError\u001b[0m                                 Traceback (most recent call last)",
      "Cell \u001b[1;32mIn[1], line 6\u001b[0m\n\u001b[0;32m      4\u001b[0m \u001b[38;5;28;01mfor\u001b[39;00m i \u001b[38;5;129;01min\u001b[39;00m k1:\n\u001b[0;32m      5\u001b[0m     \u001b[38;5;28mprint\u001b[39m(i)\n\u001b[1;32m----> 6\u001b[0m     \u001b[38;5;28;01mif\u001b[39;00m i \u001b[38;5;129;01mnot\u001b[39;00m \u001b[38;5;129;01min\u001b[39;00m k:\n\u001b[0;32m      7\u001b[0m         k[i]\u001b[38;5;241m=\u001b[39m\u001b[38;5;241m1\u001b[39m\n\u001b[0;32m      8\u001b[0m     \u001b[38;5;28;01melse\u001b[39;00m:\n",
      "\u001b[1;31mNameError\u001b[0m: name 'k' is not defined"
     ]
    }
   ],
   "source": []
  },
  {
   "cell_type": "code",
   "execution_count": 3,
   "id": "c279f545-58d5-4a24-b3a9-8c60c418010c",
   "metadata": {},
   "outputs": [
    {
     "name": "stdout",
     "output_type": "stream",
     "text": [
      "['A', 'F', 'B', 'A', 'C']\n"
     ]
    }
   ],
   "source": [
    "marks = [85, 40, 77, 92, 60]\n",
    "grades = [0, 0, 0, 0, 0]\n",
    "\n",
    "index = 0\n",
    "for m in marks:\n",
    "    if m >= 85:\n",
    "        grades[index] = 'A'\n",
    "    elif m >= 70:\n",
    "        grades[index] = 'B'\n",
    "    elif m >= 60:\n",
    "        grades[index] = 'C'\n",
    "    elif m >= 50:\n",
    "        grades[index] = 'D'\n",
    "    elif m >= 41:\n",
    "        grades[index] = 'E'\n",
    "    else:\n",
    "        grades[index] = 'F'\n",
    "    index += 1\n",
    "\n",
    "print(grades)\n"
   ]
  },
  {
   "cell_type": "code",
   "execution_count": 3,
   "id": "278f8c2c-e554-4c62-9fa4-d1437f608a25",
   "metadata": {},
   "outputs": [
    {
     "name": "stdin",
     "output_type": "stream",
     "text": [
      "Enter number of students:  5\n",
      "Enter marks of student 1:  85\n",
      "Enter marks of student 2:  70\n",
      "Enter marks of student 3:  55\n",
      "Enter marks of student 4:  40\n",
      "Enter marks of student 5:  92\n"
     ]
    },
    {
     "name": "stdout",
     "output_type": "stream",
     "text": [
      "Grades: ['A', 'B', 'C', 'F', 'A']\n"
     ]
    }
   ],
   "source": [
    "# Number of students\n",
    "n = int(input(\"Enter number of students: \"))\n",
    "\n",
    "marks = [0] * n     # fixed-size list for marks\n",
    "grades = [0] * n    # fixed-size list for grades\n",
    "\n",
    "# take marks input\n",
    "for i in range(n):\n",
    "    marks[i] = int(input(\"Enter marks of student {}: \".format(i+1)))\n",
    "\n",
    "# assign grades\n",
    "for i in range(n):\n",
    "    m = marks[i]\n",
    "    if m >= 85:\n",
    "        grades[i] = 'A'\n",
    "    elif m >= 70:\n",
    "        grades[i] = 'B'\n",
    "    elif m >= 55:\n",
    "        grades[i] = 'C'\n",
    "    elif m > 40:\n",
    "        grades[i] = 'D'\n",
    "    else:\n",
    "        grades[i] = 'F'\n",
    "\n",
    "print(\"Grades:\", grades)\n"
   ]
  },
  {
   "cell_type": "code",
   "execution_count": 10,
   "id": "641c28f1-8783-4c86-a66f-6155ae7d9840",
   "metadata": {},
   "outputs": [
    {
     "name": "stdin",
     "output_type": "stream",
     "text": [
      "Enter name to search:  dfh\n"
     ]
    },
    {
     "name": "stdout",
     "output_type": "stream",
     "text": [
      "Contact not found\n"
     ]
    }
   ],
   "source": [
    "# Contact search using Dict\n",
    "# Simple Contact Book using f-strings\n",
    "contacts = {\"Ravi\": \"9876543210\", \"Anu\": \"9911223344\"}\n",
    "\n",
    "# Search for a contact\n",
    "name = input(\"Enter name to search: \")\n",
    "\n",
    "if name in contacts:\n",
    "    print(f'\"Contact: {contacts[name]}\"')\n",
    "else:\n",
    "    print(\"Contact not found\")\n",
    "\n",
    "\n"
   ]
  },
  {
   "cell_type": "code",
   "execution_count": 23,
   "id": "09b069bc-88fe-4ee5-aae2-0922db2a4a01",
   "metadata": {},
   "outputs": [
    {
     "name": "stdin",
     "output_type": "stream",
     "text": [
      "Enter your password:  mysecret\n"
     ]
    },
    {
     "name": "stdout",
     "output_type": "stream",
     "text": [
      "m******t\n"
     ]
    }
   ],
   "source": [
    "# password\n",
    "password = input(\"Enter your password: \")\n",
    "\n",
    "# Count total characters manually\n",
    "count = 0\n",
    "for ch in password:\n",
    "    count += 1\n",
    "\n",
    "# Mask password\n",
    "if count > 2:\n",
    "    masked = (password[0] + \"*\" * (count - 2) + password[count-1])\n",
    "else:\n",
    "    masked = password\n",
    "\n",
    "print(masked)\n"
   ]
  },
  {
   "cell_type": "code",
   "execution_count": 20,
   "id": "b738f1a1-c1e3-40ab-83b8-71ca4dca04af",
   "metadata": {},
   "outputs": [
    {
     "name": "stdin",
     "output_type": "stream",
     "text": [
      "Enter a sentence:  hi hello\n"
     ]
    },
    {
     "name": "stdout",
     "output_type": "stream",
     "text": [
      "\"Longest word: hello\"\n"
     ]
    }
   ],
   "source": [
    "# longest words in the sentence\n",
    "sentence = input(\"Enter a sentence: \")\n",
    "\n",
    "words = sentence.split()       # split sentence into words\n",
    "longest_word = words[0]        # assume first word is longest\n",
    "\n",
    "for word in words:\n",
    "    if len(word) > len(longest_word):\n",
    "        longest_word = word\n",
    "\n",
    "print(f'\"Longest word: {longest_word}\"')\n",
    "\n"
   ]
  },
  {
   "cell_type": "code",
   "execution_count": 27,
   "id": "a775949b-5a50-4b29-8ecb-8f6be90e6658",
   "metadata": {},
   "outputs": [
    {
     "name": "stdout",
     "output_type": "stream",
     "text": [
      "[121, 131, 88]\n"
     ]
    }
   ],
   "source": [
    "# palindrome\n",
    "numbers = [121, 131, 123, 88, 97]  # 131 is a palindrome\n",
    "palindromes = []\n",
    "\n",
    "for num in numbers:\n",
    "    str_num = str(num)\n",
    "    if str_num == str_num[::-1]:\n",
    "        palindromes.append(num)\n",
    "\n",
    "print(palindromes)\n",
    "\n",
    "\n"
   ]
  },
  {
   "cell_type": "code",
   "execution_count": 28,
   "id": "88c7b9e6-dd1e-490c-82cc-5cceadfcc00e",
   "metadata": {},
   "outputs": [
    {
     "name": "stdout",
     "output_type": "stream",
     "text": [
      "[1, 2, 3, 4, 5]\n"
     ]
    }
   ],
   "source": [
    "# List flattering\n",
    "nested = [[1, 2], [3, 4], [5]]\n",
    "flat = []\n",
    "\n",
    "for sublist in nested:       # go through each sublist\n",
    "    for item in sublist:     # go through each item in sublist\n",
    "        flat = flat + [item] # manually add without append\n",
    "\n",
    "print(flat)\n"
   ]
  },
  {
   "cell_type": "code",
   "execution_count": 29,
   "id": "9eeccb49-ae9f-4182-85b4-dc8963f7bb27",
   "metadata": {},
   "outputs": [
    {
     "name": "stdin",
     "output_type": "stream",
     "text": [
      "Enter PAN:  ABCDE1234F\n"
     ]
    },
    {
     "name": "stdout",
     "output_type": "stream",
     "text": [
      "Valid PAN\n"
     ]
    }
   ],
   "source": [
    "# pan\n",
    "def is_valid_pan(pan):\n",
    "    letters = \"ABCDEFGHIJKLMNOPQRSTUVWXYZ\"\n",
    "    digits = \"0123456789\"\n",
    "    \n",
    "    i = 0\n",
    "    # Check length manually\n",
    "    try:\n",
    "        pan[10]\n",
    "        return False  # more than 10 chars\n",
    "    except IndexError:\n",
    "        pass\n",
    "    try:\n",
    "        pan[9]\n",
    "    except IndexError:\n",
    "        return False  # less than 10 chars\n",
    "\n",
    "    # Check pattern: 5 letters, 4 digits, 1 letter\n",
    "    while i < 5:\n",
    "        if pan[i] not in letters:\n",
    "            return False\n",
    "        i += 1\n",
    "    while i < 9:\n",
    "        if pan[i] not in digits:\n",
    "            return False\n",
    "        i += 1\n",
    "    if pan[i] not in letters:\n",
    "        return False\n",
    "    return True\n",
    "\n",
    "# Input\n",
    "pan = input(\"Enter PAN: \")\n",
    "print(\"Valid PAN\" if is_valid_pan(pan) else \"Invalid PAN\")\n"
   ]
  },
  {
   "cell_type": "code",
   "execution_count": 30,
   "id": "3b6e8375-813b-4852-8608-c4c69be74cb2",
   "metadata": {},
   "outputs": [
    {
     "name": "stdin",
     "output_type": "stream",
     "text": [
      "Enter number:  153\n"
     ]
    },
    {
     "name": "stdout",
     "output_type": "stream",
     "text": [
      "1 + 125 + 27 = 153\n",
      "Yes, Armstrong number\n"
     ]
    }
   ],
   "source": [
    "# Armstrong\n",
    "def armstrong(num):\n",
    "    temp = num\n",
    "    s = 0\n",
    "    out = \"\"\n",
    "    while temp > 0:\n",
    "        digit = temp % 10\n",
    "        cube = digit ** 3\n",
    "        s += cube\n",
    "        out = f\"{cube} + \" + out if out else f\"{cube}\"\n",
    "        temp //= 10\n",
    "    print(f\"{out} = {s}\")\n",
    "    print(\"Yes, Armstrong number\" if s == num else \"Not an Armstrong number\")\n",
    "\n",
    "# Input\n",
    "n = int(input(\"Enter number: \"))\n",
    "armstrong(n)\n"
   ]
  },
  {
   "cell_type": "code",
   "execution_count": 36,
   "id": "a3a427c9-b127-46a6-aeab-8a6c603ff5fd",
   "metadata": {},
   "outputs": [
    {
     "name": "stdin",
     "output_type": "stream",
     "text": [
      " 153\n"
     ]
    },
    {
     "name": "stdout",
     "output_type": "stream",
     "text": [
      "1³ + 5³ + 3³ = 1 + 125 + 27 = 153\n",
      "Yes, Armstrong number\n"
     ]
    }
   ],
   "source": [
    "def armstrong(s):\n",
    "    n = int(s)\n",
    "    i = 0\n",
    "    total = 0\n",
    "    digits = [int(ch) for ch in s]  # get digits\n",
    "\n",
    "    cubes_str = \"\"\n",
    "    sums_str = \"\"\n",
    "    while i < len(digits):\n",
    "        cube = digits[i] ** 3\n",
    "        total += cube\n",
    "        cubes_str += f\"{digits[i]}³\" + (\" + \" if i != len(digits)-1 else \"\")\n",
    "        sums_str += f\"{cube}\" + (\" + \" if i != len(digits)-1 else \"\")\n",
    "        i += 1\n",
    "\n",
    "    print(f\"{cubes_str} = {sums_str} = {total}\")\n",
    "    print(\"Yes, Armstrong number\" if total == n else \"Not an Armstrong number\")\n",
    "\n",
    "# Input\n",
    "s = input()\n",
    "armstrong(s)\n",
    "\n"
   ]
  },
  {
   "cell_type": "code",
   "execution_count": 37,
   "id": "facdbd92-b27d-4e95-87cb-5c8d6811722b",
   "metadata": {},
   "outputs": [
    {
     "name": "stdin",
     "output_type": "stream",
     "text": [
      "Enter a decimal number:  10\n"
     ]
    },
    {
     "name": "stdout",
     "output_type": "stream",
     "text": [
      "1010\n"
     ]
    }
   ],
   "source": [
    "# Input\n",
    "num = int(input(\"Enter a decimal number: \"))\n",
    "binary = \"\"\n",
    "n = num\n",
    "\n",
    "if n == 0:\n",
    "    binary = \"0\"\n",
    "\n",
    "while n > 0:\n",
    "    binary = str(n % 2) + binary\n",
    "    n = n // 2\n",
    "\n",
    "print(binary)\n"
   ]
  },
  {
   "cell_type": "code",
   "execution_count": 38,
   "id": "33e01bea-22bf-490e-a60c-eec2798414fa",
   "metadata": {},
   "outputs": [
    {
     "name": "stdout",
     "output_type": "stream",
     "text": [
      "2 4 8 "
     ]
    }
   ],
   "source": [
    "L1 = [2, 4, 8, 19]\n",
    "L2 = [4, 6, 8, 2, 1]\n",
    "\n",
    "L3 = [0, 0, 0, 0]  # same size as L1, temporary list\n",
    "count = 0\n",
    "\n",
    "i = 0\n",
    "while i < 4:  # length of L1\n",
    "    j = 0\n",
    "    while j < 5:  # length of L2\n",
    "        if L1[i] == L2[j]:\n",
    "            L3[count] = L1[i]\n",
    "            count += 1\n",
    "            break\n",
    "        j += 1\n",
    "    i += 1\n",
    "\n",
    "# Print only filled elements\n",
    "k = 0\n",
    "while k < count:\n",
    "    print(L3[k], end=\" \")\n",
    "    k += 1\n"
   ]
  }
 ],
 "metadata": {
  "kernelspec": {
   "display_name": "Python [conda env:base] *",
   "language": "python",
   "name": "conda-base-py"
  },
  "language_info": {
   "codemirror_mode": {
    "name": "ipython",
    "version": 3
   },
   "file_extension": ".py",
   "mimetype": "text/x-python",
   "name": "python",
   "nbconvert_exporter": "python",
   "pygments_lexer": "ipython3",
   "version": "3.13.5"
  }
 },
 "nbformat": 4,
 "nbformat_minor": 5
}
