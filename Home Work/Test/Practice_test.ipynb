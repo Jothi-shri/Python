{
 "cells": [
  {
   "cell_type": "code",
   "execution_count": 21,
   "id": "ae568fd5-2e3f-4783-859b-f9161def909e",
   "metadata": {},
   "outputs": [
    {
     "name": "stdout",
     "output_type": "stream",
     "text": [
      "{'h': 1, 'e': 1, 'l': 2, 'o': 1}\n",
      "{'o': 1, 'l': 2, 'e': 1, 'h': 1}\n",
      "Anagram\n"
     ]
    }
   ],
   "source": [
    "# Anagram\n",
    "\n",
    "k1 = \"hello\"\n",
    "k2 = \"olehl\"\n",
    "\n",
    "count1 = {}\n",
    "count2 = {}\n",
    "\n",
    "# Count frequency of each character in k1\n",
    "for i in k1:\n",
    "    if i in count1:\n",
    "        count1[i] += 1\n",
    "    else:\n",
    "        count1[i] = 1\n",
    "\n",
    "\n",
    "print(count1)\n",
    "\n",
    "# Count frequency of each character in k2\n",
    "for j in k2:\n",
    "    if j in count2:\n",
    "        count2[j] += 1\n",
    "    else:\n",
    "        count2[j] = 1\n",
    "\n",
    "print(count2)\n",
    "\n",
    "# Compare the two dictionaries\n",
    "if count1 == count2:\n",
    "    print(\"Anagram\")\n",
    "else:\n",
    "    print(\"Not Anagram\")\n"
   ]
  },
  {
   "cell_type": "code",
   "execution_count": 7,
   "id": "764892fc-b08c-4c55-a9e0-ff81707ae2c8",
   "metadata": {},
   "outputs": [
    {
     "name": "stdout",
     "output_type": "stream",
     "text": [
      "[121, 131, 88]\n"
     ]
    }
   ],
   "source": [
    "# Palindrome\n",
    "\n",
    "def is_palindrome(n):\n",
    "    rev, temp = 0, n\n",
    "    while temp:\n",
    "        rev = rev*10 + temp%10\n",
    "        temp //= 10\n",
    "    return n == rev\n",
    "\n",
    "numbers = [121, 131, 123, 88, 97]\n",
    "palindromes = [n for n in numbers if is_palindrome(n)]\n",
    "print(palindromes)"
   ]
  },
  {
   "cell_type": "code",
   "execution_count": 3,
   "id": "e7dc0e1b-7985-49ea-8afb-baffe8659cc8",
   "metadata": {},
   "outputs": [
    {
     "name": "stdin",
     "output_type": "stream",
     "text": [
      "Enter a number:  153\n"
     ]
    },
    {
     "name": "stdout",
     "output_type": "stream",
     "text": [
      "Armstrong\n"
     ]
    }
   ],
   "source": [
    "# Armstrong\n",
    "n = int(input(\"Enter a number: \"))\n",
    "temp, s = n, 0\n",
    "\n",
    "while temp > 0:\n",
    "    d = temp % 10\n",
    "    s += d ** len(str(n))\n",
    "    temp //= 10\n",
    "\n",
    "print(\"Armstrong\" if s == n else \"Not Armstrong\")"
   ]
  },
  {
   "cell_type": "code",
   "execution_count": 2,
   "id": "b25d18bc-5afe-4988-b092-12b20a260bfd",
   "metadata": {},
   "outputs": [
    {
     "name": "stdout",
     "output_type": "stream",
     "text": [
      "Output1: ['hello', 'welcome', 'hello', 'world', 'hi', 'there']\n",
      "Output2:\n",
      "hello - 2\n"
     ]
    }
   ],
   "source": [
    "k = \" Hello,Welcome!.Hello,world!Hi,there \"\n",
    "\n",
    "# remove punctuation\n",
    "for ch in \",.!?\":\n",
    "    k = k.replace(ch, \" \")\n",
    "\n",
    "words = k.lower().split()\n",
    "print(\"Output1:\", words)   # all words without punctuation\n",
    "\n",
    "# count and print only repeated words\n",
    "count = {}\n",
    "for w in words:\n",
    "    count[w] = count.get(w, 0) + 1\n",
    "\n",
    "print(\"Output2:\")\n",
    "for w, c in count.items():\n",
    "    if c > 1:\n",
    "        print(w, \"-\", c)\n",
    "\n"
   ]
  },
  {
   "cell_type": "code",
   "execution_count": null,
   "id": "32154c4d-0b31-4787-999d-d74fa8955105",
   "metadata": {},
   "outputs": [],
   "source": [
    "# students grade\n",
    "marks = [85, 40, 77, 92, 60]\n",
    "grades = [0, 0, 0, 0, 0]\n",
    "\n",
    "index = 0\n",
    "for m in marks:\n",
    "    if m >= 85:\n",
    "        grades[index] = 'A'\n",
    "    elif m >= 70:\n",
    "        grades[index] = 'B'\n",
    "    elif m >= 60:\n",
    "        grades[index] = 'C'\n",
    "    elif m >= 50:\n",
    "        grades[index] = 'D'\n",
    "    elif m >= 41:\n",
    "        grades[index] = 'E'\n",
    "    else:\n",
    "        grades[index] = 'F'\n",
    "    index += 1\n",
    "\n",
    "print(grades)"
   ]
  },
  {
   "cell_type": "code",
   "execution_count": 9,
   "id": "6efbbc13-5186-491d-90d9-ce0ad8754eaf",
   "metadata": {},
   "outputs": [
    {
     "name": "stdin",
     "output_type": "stream",
     "text": [
      "Enter PAN:  kejfie87894l\n"
     ]
    },
    {
     "name": "stdout",
     "output_type": "stream",
     "text": [
      "Invalid PAN\n"
     ]
    }
   ],
   "source": [
    "def is_valid_pan(pan):\n",
    "    letters = \"ABCDEFGHIJKLMNOPQRSTUVWXYZ\"\n",
    "    digits = \"0123456789\"\n",
    "\n",
    "    # Check length = 10\n",
    "    if len(pan) != 10:\n",
    "        return False\n",
    "\n",
    "    # Check first 5 letters\n",
    "    for i in range(5):\n",
    "        if pan[i] not in letters:\n",
    "            return False\n",
    "\n",
    "    # Check next 4 digits\n",
    "    for i in range(5, 9):\n",
    "        if pan[i] not in digits:\n",
    "            return False\n",
    "\n",
    "    # Check last letter\n",
    "    if pan[9] not in letters:\n",
    "        return False\n",
    "\n",
    "    return True\n",
    "\n",
    "\n",
    "# Input\n",
    "pan = input(\"Enter PAN: \").upper()\n",
    "print(\"Valid PAN\" if is_valid_pan(pan) else \"Invalid PAN\")\n"
   ]
  },
  {
   "cell_type": "code",
   "execution_count": 11,
   "id": "508cf709-6ec7-420d-aaea-b639a317031c",
   "metadata": {},
   "outputs": [
    {
     "name": "stdin",
     "output_type": "stream",
     "text": [
      "Enter a number:  123\n"
     ]
    },
    {
     "name": "stdout",
     "output_type": "stream",
     "text": [
      "Not Armstrong\n"
     ]
    }
   ],
   "source": [
    "\n"
   ]
  },
  {
   "cell_type": "code",
   "execution_count": 12,
   "id": "e1cae5b8-2cbc-4d45-b4e2-1fd01770b783",
   "metadata": {},
   "outputs": [
    {
     "name": "stdout",
     "output_type": "stream",
     "text": [
      "[2, 4, 8]\n"
     ]
    }
   ],
   "source": [
    "L1 = [2, 4, 8, 19]\n",
    "L2 = [4, 6, 8, 2, 1]\n",
    "\n",
    "common = []\n",
    "for i in L1:\n",
    "    if i in L2 and i not in common:   # check presence + avoid duplicates\n",
    "        common.append(i)\n",
    "\n",
    "print(common)\n"
   ]
  }
 ],
 "metadata": {
  "kernelspec": {
   "display_name": "Python [conda env:base] *",
   "language": "python",
   "name": "conda-base-py"
  },
  "language_info": {
   "codemirror_mode": {
    "name": "ipython",
    "version": 3
   },
   "file_extension": ".py",
   "mimetype": "text/x-python",
   "name": "python",
   "nbconvert_exporter": "python",
   "pygments_lexer": "ipython3",
   "version": "3.13.5"
  }
 },
 "nbformat": 4,
 "nbformat_minor": 5
}
