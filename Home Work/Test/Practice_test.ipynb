{
 "cells": [
  {
   "cell_type": "code",
   "execution_count": 21,
   "id": "ae568fd5-2e3f-4783-859b-f9161def909e",
   "metadata": {},
   "outputs": [
    {
     "name": "stdout",
     "output_type": "stream",
     "text": [
      "{'h': 1, 'e': 1, 'l': 2, 'o': 1}\n",
      "{'o': 1, 'l': 2, 'e': 1, 'h': 1}\n",
      "Anagram\n"
     ]
    }
   ],
   "source": [
    "# Anagram\n",
    "\n",
    "k1 = \"hello\"\n",
    "k2 = \"olehl\"\n",
    "\n",
    "count1 = {}\n",
    "count2 = {}\n",
    "\n",
    "# Count frequency of each character in k1\n",
    "for i in k1:\n",
    "    if i in count1:\n",
    "        count1[i] += 1\n",
    "    else:\n",
    "        count1[i] = 1\n",
    "\n",
    "\n",
    "print(count1)\n",
    "\n",
    "# Count frequency of each character in k2\n",
    "for j in k2:\n",
    "    if j in count2:\n",
    "        count2[j] += 1\n",
    "    else:\n",
    "        count2[j] = 1\n",
    "\n",
    "print(count2)\n",
    "\n",
    "# Compare the two dictionaries\n",
    "if count1 == count2:\n",
    "    print(\"Anagram\")\n",
    "else:\n",
    "    print(\"Not Anagram\")\n"
   ]
  },
  {
   "cell_type": "code",
   "execution_count": 15,
   "id": "764892fc-b08c-4c55-a9e0-ff81707ae2c8",
   "metadata": {},
   "outputs": [
    {
     "name": "stdout",
     "output_type": "stream",
     "text": [
      "Anagram\n"
     ]
    }
   ],
   "source": [
    "# Palindrome\n",
    "\n",
    "def is_palindrome(n):\n",
    "    rev, temp = 0, n\n",
    "    while temp:\n",
    "        rev = rev*10 + temp%10\n",
    "        temp //= 10\n",
    "    return n == rev\n",
    "\n",
    "numbers = [121, 131, 123, 88, 97]\n",
    "palindromes = [n for n in numbers if is_palindrome(n)]\n",
    "print(palindromes)"
   ]
  }
 ],
 "metadata": {
  "kernelspec": {
   "display_name": "Python [conda env:base] *",
   "language": "python",
   "name": "conda-base-py"
  },
  "language_info": {
   "codemirror_mode": {
    "name": "ipython",
    "version": 3
   },
   "file_extension": ".py",
   "mimetype": "text/x-python",
   "name": "python",
   "nbconvert_exporter": "python",
   "pygments_lexer": "ipython3",
   "version": "3.13.5"
  }
 },
 "nbformat": 4,
 "nbformat_minor": 5
}
