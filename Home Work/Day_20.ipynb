{
 "cells": [
  {
   "cell_type": "code",
   "execution_count": 6,
   "id": "db88ed83-1b1a-4f0a-9e41-b78760cabb4d",
   "metadata": {},
   "outputs": [
    {
     "name": "stdout",
     "output_type": "stream",
     "text": [
      "Private\n",
      "Protected\n",
      "Public\n"
     ]
    }
   ],
   "source": [
    "class Parent:\n",
    "    def __init__(self):\n",
    "        self.__private = \"Private\"\n",
    "        self._protected = \"Protected\"\n",
    "        self.public = \"Public\"\n",
    "\n",
    "    def showPrivate(self): \n",
    "        print(self.__private)\n",
    "    def showProtected(self): \n",
    "        print(self._protected)\n",
    "    def showPublic(self): \n",
    "        print(self.public)\n",
    "\n",
    "class Child(Parent):\n",
    "    def access(self):\n",
    "        print(self._protected)\n",
    "        print(self.public)\n",
    "class Child\n",
    "\n",
    "obj = Child()\n",
    "obj.showPrivate()\n",
    "# obj.showProtected()\n",
    "# obj.showPublic()\n",
    "obj.access()\n"
   ]
  },
  {
   "cell_type": "code",
   "execution_count": 7,
   "id": "fbfb7567-2184-4773-a93f-5101e1883f62",
   "metadata": {},
   "outputs": [
    {
     "name": "stdout",
     "output_type": "stream",
     "text": [
      "Protected A Public A\n",
      "Protected B Public B\n"
     ]
    }
   ],
   "source": [
    "class A:\n",
    "    def __init__(self):\n",
    "        self.__a = \"Private A\"\n",
    "        self._a = \"Protected A\"\n",
    "        self.a = \"Public A\"\n",
    "\n",
    "class B:\n",
    "    def __init__(self):\n",
    "        self.__b = \"Private B\"\n",
    "        self._b = \"Protected B\"\n",
    "        self.b = \"Public B\"\n",
    "\n",
    "class C(A, B):   \n",
    "    def __init__(self):\n",
    "        A.__init__(self)\n",
    "        B.__init__(self)\n",
    "    \n",
    "    def show(self):\n",
    "        print(self._a, self.a)   \n",
    "        print(self._b, self.b)  \n",
    "       \n",
    "\n",
    "obj = C()\n",
    "obj.show()\n"
   ]
  },
  {
   "cell_type": "code",
   "execution_count": null,
   "id": "34c52743-6ef4-45a6-8a64-5979c30d06c2",
   "metadata": {},
   "outputs": [],
   "source": [
    "k = \"  Hello,Welcome.! \"\n"
   ]
  }
 ],
 "metadata": {
  "kernelspec": {
   "display_name": "Python [conda env:base] *",
   "language": "python",
   "name": "conda-base-py"
  },
  "language_info": {
   "codemirror_mode": {
    "name": "ipython",
    "version": 3
   },
   "file_extension": ".py",
   "mimetype": "text/x-python",
   "name": "python",
   "nbconvert_exporter": "python",
   "pygments_lexer": "ipython3",
   "version": "3.13.5"
  }
 },
 "nbformat": 4,
 "nbformat_minor": 5
}
