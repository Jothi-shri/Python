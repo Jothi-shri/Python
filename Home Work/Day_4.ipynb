{
 "cells": [
  {
   "cell_type": "code",
   "execution_count": 16,
   "id": "bfe09c10-988a-490d-ad74-6e5c7e54405a",
   "metadata": {},
   "outputs": [
    {
     "name": "stdin",
     "output_type": "stream",
     "text": [
      "Enter a first number 10\n",
      "Enter a second number 7\n"
     ]
    },
    {
     "name": "stdout",
     "output_type": "stream",
     "text": [
      "17\n",
      "3\n",
      "70\n",
      "1.4285714285714286\n",
      "3\n",
      "1\n",
      "10000000\n"
     ]
    }
   ],
   "source": [
    "# Arithmetic Operators\n",
    "num1 = int(input(\"Enter a first number\"))\n",
    "num2 = int(input(\"Enter a second number\"))\n",
    "\n",
    "print(num1 + num2)\n",
    "print(num1 - num2)\n",
    "print(num1 * num2)\n",
    "print(num1 / num2) \n",
    "print(num1 % num2)\n",
    "\n",
    "# Floor Division --> Quotient\n",
    "print(num1 // num2)\n",
    "# Exponent --> Power\n",
    "print(num1 ** num2)\n"
   ]
  },
  {
   "cell_type": "code",
   "execution_count": 6,
   "id": "b73ecab5-e0df-4fa0-b657-9fcbf0570946",
   "metadata": {},
   "outputs": [
    {
     "name": "stdout",
     "output_type": "stream",
     "text": [
      "True\n",
      "True\n",
      "False\n",
      "False\n",
      "True\n"
     ]
    }
   ],
   "source": [
    "# Comparison Operators\n",
    "print(num1 < num2)\n",
    "print(num1 <= num2)\n",
    "print(num1 > num2)\n",
    "print(num1 == num2)\n",
    "print(num1 != num2)\n"
   ]
  },
  {
   "cell_type": "code",
   "execution_count": 12,
   "id": "b7ba2c73-d3b3-4af1-878c-4f6b2db7ba70",
   "metadata": {},
   "outputs": [
    {
     "name": "stdout",
     "output_type": "stream",
     "text": [
      "7\n",
      "5\n"
     ]
    }
   ],
   "source": [
    "# Assignment Operators\n",
    "num1 += 2\n",
    "print(num1)\n",
    "\n",
    "num2 //= 2\n",
    "print(num2)"
   ]
  },
  {
   "cell_type": "code",
   "execution_count": 20,
   "id": "1ad8d902-b6ac-4d75-aae0-5792279b943e",
   "metadata": {},
   "outputs": [
    {
     "name": "stdout",
     "output_type": "stream",
     "text": [
      "True\n",
      "True\n",
      "False\n"
     ]
    }
   ],
   "source": [
    "# Logical Operators\n",
    "print(num1 > 5 and num2 > 5)\n",
    "print(num1 > 5 or num2 > 10)\n",
    "print(not(num1 > 5)) "
   ]
  },
  {
   "cell_type": "code",
   "execution_count": null,
   "id": "417757ca-87de-45f9-96c3-19246250d727",
   "metadata": {},
   "outputs": [],
   "source": []
  }
 ],
 "metadata": {
  "kernelspec": {
   "display_name": "Python [conda env:base] *",
   "language": "python",
   "name": "conda-base-py"
  },
  "language_info": {
   "codemirror_mode": {
    "name": "ipython",
    "version": 3
   },
   "file_extension": ".py",
   "mimetype": "text/x-python",
   "name": "python",
   "nbconvert_exporter": "python",
   "pygments_lexer": "ipython3",
   "version": "3.13.5"
  }
 },
 "nbformat": 4,
 "nbformat_minor": 5
}
