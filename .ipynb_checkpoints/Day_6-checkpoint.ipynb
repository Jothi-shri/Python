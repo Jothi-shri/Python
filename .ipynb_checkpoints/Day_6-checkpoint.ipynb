{
 "cells": [
  {
   "cell_type": "code",
   "execution_count": 3,
   "id": "b7ae5fc4-d8db-4cb3-99fa-0ee38383a877",
   "metadata": {},
   "outputs": [
    {
     "name": "stdout",
     "output_type": "stream",
     "text": [
      "10\n"
     ]
    }
   ],
   "source": [
    "# elif \n",
    "a =5\n",
    "b =10\n",
    "c = 6\n",
    "if(a>b and a>c):# (a>b>c)\n",
    "    print(a);\n",
    "elif( b>c): # (b>a>c)\n",
    "    print(b);\n",
    "else:\n",
    "    print(c);\n",
    "\n",
    "    "
   ]
  },
  {
   "cell_type": "code",
   "execution_count": 8,
   "id": "f9a16c46-6020-468e-b196-e328b112c771",
   "metadata": {},
   "outputs": [
    {
     "name": "stdout",
     "output_type": "stream",
     "text": [
      "Determined\n"
     ]
    }
   ],
   "source": [
    "a = \"apple\"\n",
    "if(\"a\" in a):\n",
    "    print(\"Determined\");\n",
    "else:\n",
    "    print(\"Not Determined\");"
   ]
  },
  {
   "cell_type": "code",
   "execution_count": null,
   "id": "29d53d2c-2005-4647-9ba6-d799d3f534c4",
   "metadata": {},
   "outputs": [],
   "source": [
    "skill = \"Python\"   \n",
    "exp = 1                      exp=2\n",
    "Native = \"Chennai\" \n",
    "\"TCS\"                         \"wipro\"\n",
    "\n",
    "skill = \"java\"\n",
    "exp =1                       exp =2                  exp =1            exp =2\n",
    "nativef =\"cbe\"                                      \"chennai\"          \"chennai\"\n",
    "\"Cog\"                        \"Accenture\"             \"trios\"            \"HCL\"\n",
    "# List, tuple, set,dictionary"
   ]
  }
 ],
 "metadata": {
  "kernelspec": {
   "display_name": "Python [conda env:base] *",
   "language": "python",
   "name": "conda-base-py"
  },
  "language_info": {
   "codemirror_mode": {
    "name": "ipython",
    "version": 3
   },
   "file_extension": ".py",
   "mimetype": "text/x-python",
   "name": "python",
   "nbconvert_exporter": "python",
   "pygments_lexer": "ipython3",
   "version": "3.13.5"
  }
 },
 "nbformat": 4,
 "nbformat_minor": 5
}
